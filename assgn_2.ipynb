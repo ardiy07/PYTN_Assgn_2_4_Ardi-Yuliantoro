{
  "nbformat": 4,
  "nbformat_minor": 0,
  "metadata": {
    "colab": {
      "provenance": [],
      "collapsed_sections": [
        "kLrXfG5KQVH1",
        "iEGRxSIfQg6b",
        "eitcrJnoUAKP"
      ]
    },
    "kernelspec": {
      "name": "python3",
      "display_name": "Python 3"
    },
    "language_info": {
      "name": "python"
    }
  },
  "cells": [
    {
      "cell_type": "markdown",
      "source": [
        "## Deskripsi\n",
        "\n",
        "Dataset berasal dari <a href=\"https://www.kaggle.com/datasets/new-york-city/nyc-property-sales\">Kaggle</a>\n",
        "\n",
        "#### Konteks\n",
        "\n",
        "Kumpulan data ini adalah catatan dari setiap bangunan atau unit bangunan (apartemen, dll.) yang dijual di pasar properti Kota New York selama periode 12 bulan.\n",
        "\n",
        "Dataset ini berisi lokasi, alamat, tipe, harga jual, dan tanggal penjualan unit bangunan yang terjual. Referensi di bidang yang lebih rumit:\n",
        "- <b>BOROUGH</b>: Kode digit untuk wilayah tempat properti berada; agar ini adalah Manhattan (1), Bronx (2), Brooklyn (3), Queens (4), dan Staten Island (5).\n",
        "- <b>BLOCK</b>;<b>LOT</b>: Kombinasi borough, block, dan lot membentuk kunci unik untuk properti di New York City. Biasa disebu <b>BBL</b>\n",
        "- <b>BUILDING CLASS AT PRESENT</b> dan <b>BUILDING CLASS AT TIME OF SALE</b>: Jenis bangunan di berbagai titik waktu. Lihat glosarium yang ditautkan ke bawah.\n",
        "\n",
        "Untuk referensi lebih lanjut tentang masing-masing bidang, lihat <a href=\"https://www.nyc.gov/assets/finance/downloads/pdf/07pdf/glossary_rsf071607.pdf\">Glossary of Terms</a>. Untuk kode klasifikasi bangunan lihat <a href=\"https://www.nyc.gov/assets/finance/jump/hlpbldgcode.html\">Building Classifications Glossary.</a>\n",
        "\n",
        "Perhatikan bahwa karena ini adalah kumpulan data transaksi keuangan, ada beberapa hal yang perlu diperhatikan:\n",
        "- Banyak penjualan terjadi dengan jumlah dolar yang sangat kecil: $0 paling sering. Penjualan ini sebenarnya adalah pengalihan akta antar pihak: misalnya, orang tua mengalihkan kepemilikan rumah mereka kepada seorang anak setelah pindah untuk pensiun.\n",
        "- Kumpulan data ini menggunakan definisi keuangan dari sebuah bangunan/unit bangunan, untuk tujuan perpajakan. Dalam hal satu entitas memiliki bangunan tersebut, penjualan mencakup nilai seluruh bangunan. Jika sebuah bangunan dimiliki sedikit demi sedikit oleh penghuninya (kondominium), penjualan mengacu pada satu apartemen (atau sekelompok apartemen) yang dimiliki oleh beberapa individu."
      ],
      "metadata": {
        "id": "8MiDPpdwMoKE"
      }
    },
    {
      "cell_type": "markdown",
      "source": [
        "# Import Library"
      ],
      "metadata": {
        "id": "fXFiufnBOXO6"
      }
    },
    {
      "cell_type": "code",
      "execution_count": 587,
      "metadata": {
        "id": "_e2TykkuJ0KS"
      },
      "outputs": [],
      "source": [
        "# Import Library\n",
        "import numpy as np\n",
        "import pandas as pd\n",
        "from scipy.stats import norm, t, describe\n",
        "import statsmodels.api as sm\n",
        "\n",
        "import matplotlib.pyplot as plt\n",
        "%matplotlib inline\n",
        "import seaborn as sns\n",
        "\n",
        "import warnings\n",
        "warnings.filterwarnings('ignore')"
      ]
    },
    {
      "cell_type": "markdown",
      "source": [
        "# Load Dataset"
      ],
      "metadata": {
        "id": "bJBmegTCOaqM"
      }
    },
    {
      "cell_type": "code",
      "source": [
        "# Tambahkan mising value\n",
        "mising_value = [' ', '-', ' -  ']"
      ],
      "metadata": {
        "id": "_FuWC81dNL9Z"
      },
      "execution_count": 588,
      "outputs": []
    },
    {
      "cell_type": "markdown",
      "source": [
        "Pada langkah ini, kita perlu melakukan penambahan karakter atau nilai yang hilang karena terdapat karakter \"NaN\" yang menunjukkan adanya data kosong atau spasi yang tidak terdefinisi. Tindakan ini dilakukan untuk mengisi kekosongan tersebut agar data menjadi lebih lengkap dan dapat digunakan secara efektif."
      ],
      "metadata": {
        "id": "Dz9EvNePNKvp"
      }
    },
    {
      "cell_type": "markdown",
      "source": [],
      "metadata": {
        "id": "hW-NPka5OVOl"
      }
    },
    {
      "cell_type": "code",
      "source": [
        "# Load dataset\n",
        "df_ori = pd.read_csv('https://raw.githubusercontent.com/ardiy07/dataset/main/nyc-rolling-sales.csv', na_values= mising_value);\n",
        "\n",
        "# copy dataset\n",
        "df = df_ori.copy()\n",
        "\n",
        "# Tampilkan 5 data teratas\n",
        "df.head(5)"
      ],
      "metadata": {
        "colab": {
          "base_uri": "https://localhost:8080/",
          "height": 0
        },
        "id": "ocZr747XMZOf",
        "outputId": "5f297669-6d78-4dbe-90be-bba8d5b35b4a"
      },
      "execution_count": 589,
      "outputs": [
        {
          "output_type": "execute_result",
          "data": {
            "text/plain": [
              "   Unnamed: 0  BOROUGH   NEIGHBORHOOD  \\\n",
              "0           4        1  ALPHABET CITY   \n",
              "1           5        1  ALPHABET CITY   \n",
              "2           6        1  ALPHABET CITY   \n",
              "3           7        1  ALPHABET CITY   \n",
              "4           8        1  ALPHABET CITY   \n",
              "\n",
              "                       BUILDING CLASS CATEGORY TAX CLASS AT PRESENT  BLOCK  \\\n",
              "0  07 RENTALS - WALKUP APARTMENTS                                2A    392   \n",
              "1  07 RENTALS - WALKUP APARTMENTS                                 2    399   \n",
              "2  07 RENTALS - WALKUP APARTMENTS                                 2    399   \n",
              "3  07 RENTALS - WALKUP APARTMENTS                                2B    402   \n",
              "4  07 RENTALS - WALKUP APARTMENTS                                2A    404   \n",
              "\n",
              "   LOT  EASE-MENT BUILDING CLASS AT PRESENT                 ADDRESS  ...  \\\n",
              "0    6        NaN                        C2            153 AVENUE B  ...   \n",
              "1   26        NaN                        C7   234 EAST 4TH   STREET  ...   \n",
              "2   39        NaN                        C7   197 EAST 3RD   STREET  ...   \n",
              "3   21        NaN                        C4     154 EAST 7TH STREET  ...   \n",
              "4   55        NaN                        C2  301 EAST 10TH   STREET  ...   \n",
              "\n",
              "  RESIDENTIAL UNITS  COMMERCIAL UNITS  TOTAL UNITS  LAND SQUARE FEET  \\\n",
              "0                 5                 0            5            1633.0   \n",
              "1                28                 3           31            4616.0   \n",
              "2                16                 1           17            2212.0   \n",
              "3                10                 0           10            2272.0   \n",
              "4                 6                 0            6            2369.0   \n",
              "\n",
              "   GROSS SQUARE FEET  YEAR BUILT  TAX CLASS AT TIME OF SALE  \\\n",
              "0             6440.0        1900                          2   \n",
              "1            18690.0        1900                          2   \n",
              "2             7803.0        1900                          2   \n",
              "3             6794.0        1913                          2   \n",
              "4             4615.0        1900                          2   \n",
              "\n",
              "   BUILDING CLASS AT TIME OF SALE  SALE PRICE            SALE DATE  \n",
              "0                              C2   6625000.0  2017-07-19 00:00:00  \n",
              "1                              C7         NaN  2016-12-14 00:00:00  \n",
              "2                              C7         NaN  2016-12-09 00:00:00  \n",
              "3                              C4   3936272.0  2016-09-23 00:00:00  \n",
              "4                              C2   8000000.0  2016-11-17 00:00:00  \n",
              "\n",
              "[5 rows x 22 columns]"
            ],
            "text/html": [
              "\n",
              "  <div id=\"df-1fb95a7d-c627-472a-acb6-54ed7f2b6cf8\">\n",
              "    <div class=\"colab-df-container\">\n",
              "      <div>\n",
              "<style scoped>\n",
              "    .dataframe tbody tr th:only-of-type {\n",
              "        vertical-align: middle;\n",
              "    }\n",
              "\n",
              "    .dataframe tbody tr th {\n",
              "        vertical-align: top;\n",
              "    }\n",
              "\n",
              "    .dataframe thead th {\n",
              "        text-align: right;\n",
              "    }\n",
              "</style>\n",
              "<table border=\"1\" class=\"dataframe\">\n",
              "  <thead>\n",
              "    <tr style=\"text-align: right;\">\n",
              "      <th></th>\n",
              "      <th>Unnamed: 0</th>\n",
              "      <th>BOROUGH</th>\n",
              "      <th>NEIGHBORHOOD</th>\n",
              "      <th>BUILDING CLASS CATEGORY</th>\n",
              "      <th>TAX CLASS AT PRESENT</th>\n",
              "      <th>BLOCK</th>\n",
              "      <th>LOT</th>\n",
              "      <th>EASE-MENT</th>\n",
              "      <th>BUILDING CLASS AT PRESENT</th>\n",
              "      <th>ADDRESS</th>\n",
              "      <th>...</th>\n",
              "      <th>RESIDENTIAL UNITS</th>\n",
              "      <th>COMMERCIAL UNITS</th>\n",
              "      <th>TOTAL UNITS</th>\n",
              "      <th>LAND SQUARE FEET</th>\n",
              "      <th>GROSS SQUARE FEET</th>\n",
              "      <th>YEAR BUILT</th>\n",
              "      <th>TAX CLASS AT TIME OF SALE</th>\n",
              "      <th>BUILDING CLASS AT TIME OF SALE</th>\n",
              "      <th>SALE PRICE</th>\n",
              "      <th>SALE DATE</th>\n",
              "    </tr>\n",
              "  </thead>\n",
              "  <tbody>\n",
              "    <tr>\n",
              "      <th>0</th>\n",
              "      <td>4</td>\n",
              "      <td>1</td>\n",
              "      <td>ALPHABET CITY</td>\n",
              "      <td>07 RENTALS - WALKUP APARTMENTS</td>\n",
              "      <td>2A</td>\n",
              "      <td>392</td>\n",
              "      <td>6</td>\n",
              "      <td>NaN</td>\n",
              "      <td>C2</td>\n",
              "      <td>153 AVENUE B</td>\n",
              "      <td>...</td>\n",
              "      <td>5</td>\n",
              "      <td>0</td>\n",
              "      <td>5</td>\n",
              "      <td>1633.0</td>\n",
              "      <td>6440.0</td>\n",
              "      <td>1900</td>\n",
              "      <td>2</td>\n",
              "      <td>C2</td>\n",
              "      <td>6625000.0</td>\n",
              "      <td>2017-07-19 00:00:00</td>\n",
              "    </tr>\n",
              "    <tr>\n",
              "      <th>1</th>\n",
              "      <td>5</td>\n",
              "      <td>1</td>\n",
              "      <td>ALPHABET CITY</td>\n",
              "      <td>07 RENTALS - WALKUP APARTMENTS</td>\n",
              "      <td>2</td>\n",
              "      <td>399</td>\n",
              "      <td>26</td>\n",
              "      <td>NaN</td>\n",
              "      <td>C7</td>\n",
              "      <td>234 EAST 4TH   STREET</td>\n",
              "      <td>...</td>\n",
              "      <td>28</td>\n",
              "      <td>3</td>\n",
              "      <td>31</td>\n",
              "      <td>4616.0</td>\n",
              "      <td>18690.0</td>\n",
              "      <td>1900</td>\n",
              "      <td>2</td>\n",
              "      <td>C7</td>\n",
              "      <td>NaN</td>\n",
              "      <td>2016-12-14 00:00:00</td>\n",
              "    </tr>\n",
              "    <tr>\n",
              "      <th>2</th>\n",
              "      <td>6</td>\n",
              "      <td>1</td>\n",
              "      <td>ALPHABET CITY</td>\n",
              "      <td>07 RENTALS - WALKUP APARTMENTS</td>\n",
              "      <td>2</td>\n",
              "      <td>399</td>\n",
              "      <td>39</td>\n",
              "      <td>NaN</td>\n",
              "      <td>C7</td>\n",
              "      <td>197 EAST 3RD   STREET</td>\n",
              "      <td>...</td>\n",
              "      <td>16</td>\n",
              "      <td>1</td>\n",
              "      <td>17</td>\n",
              "      <td>2212.0</td>\n",
              "      <td>7803.0</td>\n",
              "      <td>1900</td>\n",
              "      <td>2</td>\n",
              "      <td>C7</td>\n",
              "      <td>NaN</td>\n",
              "      <td>2016-12-09 00:00:00</td>\n",
              "    </tr>\n",
              "    <tr>\n",
              "      <th>3</th>\n",
              "      <td>7</td>\n",
              "      <td>1</td>\n",
              "      <td>ALPHABET CITY</td>\n",
              "      <td>07 RENTALS - WALKUP APARTMENTS</td>\n",
              "      <td>2B</td>\n",
              "      <td>402</td>\n",
              "      <td>21</td>\n",
              "      <td>NaN</td>\n",
              "      <td>C4</td>\n",
              "      <td>154 EAST 7TH STREET</td>\n",
              "      <td>...</td>\n",
              "      <td>10</td>\n",
              "      <td>0</td>\n",
              "      <td>10</td>\n",
              "      <td>2272.0</td>\n",
              "      <td>6794.0</td>\n",
              "      <td>1913</td>\n",
              "      <td>2</td>\n",
              "      <td>C4</td>\n",
              "      <td>3936272.0</td>\n",
              "      <td>2016-09-23 00:00:00</td>\n",
              "    </tr>\n",
              "    <tr>\n",
              "      <th>4</th>\n",
              "      <td>8</td>\n",
              "      <td>1</td>\n",
              "      <td>ALPHABET CITY</td>\n",
              "      <td>07 RENTALS - WALKUP APARTMENTS</td>\n",
              "      <td>2A</td>\n",
              "      <td>404</td>\n",
              "      <td>55</td>\n",
              "      <td>NaN</td>\n",
              "      <td>C2</td>\n",
              "      <td>301 EAST 10TH   STREET</td>\n",
              "      <td>...</td>\n",
              "      <td>6</td>\n",
              "      <td>0</td>\n",
              "      <td>6</td>\n",
              "      <td>2369.0</td>\n",
              "      <td>4615.0</td>\n",
              "      <td>1900</td>\n",
              "      <td>2</td>\n",
              "      <td>C2</td>\n",
              "      <td>8000000.0</td>\n",
              "      <td>2016-11-17 00:00:00</td>\n",
              "    </tr>\n",
              "  </tbody>\n",
              "</table>\n",
              "<p>5 rows × 22 columns</p>\n",
              "</div>\n",
              "      <button class=\"colab-df-convert\" onclick=\"convertToInteractive('df-1fb95a7d-c627-472a-acb6-54ed7f2b6cf8')\"\n",
              "              title=\"Convert this dataframe to an interactive table.\"\n",
              "              style=\"display:none;\">\n",
              "        \n",
              "  <svg xmlns=\"http://www.w3.org/2000/svg\" height=\"24px\"viewBox=\"0 0 24 24\"\n",
              "       width=\"24px\">\n",
              "    <path d=\"M0 0h24v24H0V0z\" fill=\"none\"/>\n",
              "    <path d=\"M18.56 5.44l.94 2.06.94-2.06 2.06-.94-2.06-.94-.94-2.06-.94 2.06-2.06.94zm-11 1L8.5 8.5l.94-2.06 2.06-.94-2.06-.94L8.5 2.5l-.94 2.06-2.06.94zm10 10l.94 2.06.94-2.06 2.06-.94-2.06-.94-.94-2.06-.94 2.06-2.06.94z\"/><path d=\"M17.41 7.96l-1.37-1.37c-.4-.4-.92-.59-1.43-.59-.52 0-1.04.2-1.43.59L10.3 9.45l-7.72 7.72c-.78.78-.78 2.05 0 2.83L4 21.41c.39.39.9.59 1.41.59.51 0 1.02-.2 1.41-.59l7.78-7.78 2.81-2.81c.8-.78.8-2.07 0-2.86zM5.41 20L4 18.59l7.72-7.72 1.47 1.35L5.41 20z\"/>\n",
              "  </svg>\n",
              "      </button>\n",
              "      \n",
              "  <style>\n",
              "    .colab-df-container {\n",
              "      display:flex;\n",
              "      flex-wrap:wrap;\n",
              "      gap: 12px;\n",
              "    }\n",
              "\n",
              "    .colab-df-convert {\n",
              "      background-color: #E8F0FE;\n",
              "      border: none;\n",
              "      border-radius: 50%;\n",
              "      cursor: pointer;\n",
              "      display: none;\n",
              "      fill: #1967D2;\n",
              "      height: 32px;\n",
              "      padding: 0 0 0 0;\n",
              "      width: 32px;\n",
              "    }\n",
              "\n",
              "    .colab-df-convert:hover {\n",
              "      background-color: #E2EBFA;\n",
              "      box-shadow: 0px 1px 2px rgba(60, 64, 67, 0.3), 0px 1px 3px 1px rgba(60, 64, 67, 0.15);\n",
              "      fill: #174EA6;\n",
              "    }\n",
              "\n",
              "    [theme=dark] .colab-df-convert {\n",
              "      background-color: #3B4455;\n",
              "      fill: #D2E3FC;\n",
              "    }\n",
              "\n",
              "    [theme=dark] .colab-df-convert:hover {\n",
              "      background-color: #434B5C;\n",
              "      box-shadow: 0px 1px 3px 1px rgba(0, 0, 0, 0.15);\n",
              "      filter: drop-shadow(0px 1px 2px rgba(0, 0, 0, 0.3));\n",
              "      fill: #FFFFFF;\n",
              "    }\n",
              "  </style>\n",
              "\n",
              "      <script>\n",
              "        const buttonEl =\n",
              "          document.querySelector('#df-1fb95a7d-c627-472a-acb6-54ed7f2b6cf8 button.colab-df-convert');\n",
              "        buttonEl.style.display =\n",
              "          google.colab.kernel.accessAllowed ? 'block' : 'none';\n",
              "\n",
              "        async function convertToInteractive(key) {\n",
              "          const element = document.querySelector('#df-1fb95a7d-c627-472a-acb6-54ed7f2b6cf8');\n",
              "          const dataTable =\n",
              "            await google.colab.kernel.invokeFunction('convertToInteractive',\n",
              "                                                     [key], {});\n",
              "          if (!dataTable) return;\n",
              "\n",
              "          const docLinkHtml = 'Like what you see? Visit the ' +\n",
              "            '<a target=\"_blank\" href=https://colab.research.google.com/notebooks/data_table.ipynb>data table notebook</a>'\n",
              "            + ' to learn more about interactive tables.';\n",
              "          element.innerHTML = '';\n",
              "          dataTable['output_type'] = 'display_data';\n",
              "          await google.colab.output.renderOutput(dataTable, element);\n",
              "          const docLink = document.createElement('div');\n",
              "          docLink.innerHTML = docLinkHtml;\n",
              "          element.appendChild(docLink);\n",
              "        }\n",
              "      </script>\n",
              "    </div>\n",
              "  </div>\n",
              "  "
            ]
          },
          "metadata": {},
          "execution_count": 589
        }
      ]
    },
    {
      "cell_type": "markdown",
      "source": [
        "Pada tahap ini, dilakukan pengambilan dataset dan penyimpanan ke dalam sebuah variabel. Tujuan dari melakukan penyalinan dataset ini adalah untuk menjaga keaslian dataset asli dan mencegah perubahan yang tidak diinginkan saat dilakukan pemrosesan data. Dengan menyimpan dataset dalam variabel terpisah, kita dapat bekerja dengan dataset salinan tanpa mengubah dataset asli, sehingga memastikan integritas dan konsistensi data yang kita gunakan."
      ],
      "metadata": {
        "id": "QIQPyEhlOowR"
      }
    },
    {
      "cell_type": "code",
      "source": [
        "# Tampilkan informasi dataset\n",
        "df.info()"
      ],
      "metadata": {
        "colab": {
          "base_uri": "https://localhost:8080/"
        },
        "id": "kFuRsiE5PG-s",
        "outputId": "c4922803-c360-4484-bfc5-73d81d26e880"
      },
      "execution_count": 590,
      "outputs": [
        {
          "output_type": "stream",
          "name": "stdout",
          "text": [
            "<class 'pandas.core.frame.DataFrame'>\n",
            "RangeIndex: 84548 entries, 0 to 84547\n",
            "Data columns (total 22 columns):\n",
            " #   Column                          Non-Null Count  Dtype  \n",
            "---  ------                          --------------  -----  \n",
            " 0   Unnamed: 0                      84548 non-null  int64  \n",
            " 1   BOROUGH                         84548 non-null  int64  \n",
            " 2   NEIGHBORHOOD                    84548 non-null  object \n",
            " 3   BUILDING CLASS CATEGORY         84548 non-null  object \n",
            " 4   TAX CLASS AT PRESENT            83810 non-null  object \n",
            " 5   BLOCK                           84548 non-null  int64  \n",
            " 6   LOT                             84548 non-null  int64  \n",
            " 7   EASE-MENT                       0 non-null      float64\n",
            " 8   BUILDING CLASS AT PRESENT       83810 non-null  object \n",
            " 9   ADDRESS                         84548 non-null  object \n",
            " 10  APARTMENT NUMBER                19052 non-null  object \n",
            " 11  ZIP CODE                        84548 non-null  int64  \n",
            " 12  RESIDENTIAL UNITS               84548 non-null  int64  \n",
            " 13  COMMERCIAL UNITS                84548 non-null  int64  \n",
            " 14  TOTAL UNITS                     84548 non-null  int64  \n",
            " 15  LAND SQUARE FEET                58296 non-null  float64\n",
            " 16  GROSS SQUARE FEET               56936 non-null  float64\n",
            " 17  YEAR BUILT                      84548 non-null  int64  \n",
            " 18  TAX CLASS AT TIME OF SALE       84548 non-null  int64  \n",
            " 19  BUILDING CLASS AT TIME OF SALE  84548 non-null  object \n",
            " 20  SALE PRICE                      69987 non-null  float64\n",
            " 21  SALE DATE                       84548 non-null  object \n",
            "dtypes: float64(4), int64(10), object(8)\n",
            "memory usage: 14.2+ MB\n"
          ]
        }
      ]
    },
    {
      "cell_type": "markdown",
      "source": [
        "Dalam informasi yang diberikan, disebutkan bahwa terdapat data yang bernilai null dalam dataset tersebut. Selain itu, terdapat beberapa kolom yang memiliki tipe data int64 atau objek."
      ],
      "metadata": {
        "id": "piCaG1KTPfXK"
      }
    },
    {
      "cell_type": "markdown",
      "source": [
        "# Cleaning Data"
      ],
      "metadata": {
        "id": "kLrXfG5KQVH1"
      }
    },
    {
      "cell_type": "code",
      "source": [
        "# Drop column EASE-MENT dan Unnamed: 0\n",
        "df.drop(columns=['EASE-MENT', 'Unnamed: 0'], inplace=True)"
      ],
      "metadata": {
        "id": "hws5rJDnRk3I"
      },
      "execution_count": 591,
      "outputs": []
    },
    {
      "cell_type": "markdown",
      "source": [
        "Penghapusan column EASE-MENT karena, data dari EASE-MENT merupakan Nan semua. sehingga column tersebut tidak bisa di gunakan."
      ],
      "metadata": {
        "id": "t6KEwtLqR7wT"
      }
    },
    {
      "cell_type": "code",
      "source": [
        "# Ganti data Sale Price = 0 dengan NaN\n",
        "df['SALE PRICE']= df['SALE PRICE'].replace(0, np.nan)\n",
        "# Drop data Sale Price = 0\n",
        "df.dropna()"
      ],
      "metadata": {
        "colab": {
          "base_uri": "https://localhost:8080/",
          "height": 922
        },
        "id": "L2mMINyJaI_d",
        "outputId": "1e024125-7cc6-4f98-e0ac-bd34a9e1083e"
      },
      "execution_count": 592,
      "outputs": [
        {
          "output_type": "execute_result",
          "data": {
            "text/plain": [
              "       BOROUGH             NEIGHBORHOOD  \\\n",
              "10520        1         ROOSEVELT ISLAND   \n",
              "10694        1                     SOHO   \n",
              "17090        1  UPPER WEST SIDE (79-96)   \n",
              "18746        2               BAYCHESTER   \n",
              "18747        2               BAYCHESTER   \n",
              "...        ...                      ...   \n",
              "59640        4           FLUSHING-SOUTH   \n",
              "73901        4      SPRINGFIELD GARDENS   \n",
              "82934        5                STAPLETON   \n",
              "83790        5        WEST NEW BRIGHTON   \n",
              "83909        5        WEST NEW BRIGHTON   \n",
              "\n",
              "                            BUILDING CLASS CATEGORY TAX CLASS AT PRESENT  \\\n",
              "10520  11A CONDO-RENTALS                                               2   \n",
              "10694  11A CONDO-RENTALS                                               2   \n",
              "17090  11A CONDO-RENTALS                                               2   \n",
              "18746   04 TAX CLASS 1 CONDOS                                         1A   \n",
              "18747   04 TAX CLASS 1 CONDOS                                         1A   \n",
              "...                                             ...                  ...   \n",
              "59640   07 RENTALS - WALKUP APARTMENTS                                2A   \n",
              "73901   07 RENTALS - WALKUP APARTMENTS                                2A   \n",
              "82934   02 TWO FAMILY DWELLINGS                                        1   \n",
              "83790   02 TWO FAMILY DWELLINGS                                        1   \n",
              "83909   37 RELIGIOUS FACILITIES                                        4   \n",
              "\n",
              "       BLOCK   LOT BUILDING CLASS AT PRESENT                   ADDRESS  \\\n",
              "10520   1373  2001                        RR           480 MAIN STREET   \n",
              "10694    230  1402                        RR          25 MERCER STREET   \n",
              "17090   1209  1101                        RR     360 CENTRAL PARK WEST   \n",
              "18746   4795  1009                        R3           2877 ELY AVENUE   \n",
              "18747   4795  1027                        R3           2853 ELY AVENUE   \n",
              "...      ...   ...                       ...                       ...   \n",
              "59640   6971    56                        C3        164-18 77TH   ROAD   \n",
              "73901  12701    47                        C3      122-20 NELLIS STREET   \n",
              "82934    505   100                        S2            388 BAY STREET   \n",
              "83790    178    46                        B2  296 NORTH BURGHER AVENUE   \n",
              "83909    177   103                        M1     1009 CASTLETON AVENUE   \n",
              "\n",
              "      APARTMENT NUMBER  ZIP CODE  RESIDENTIAL UNITS  COMMERCIAL UNITS  \\\n",
              "10520            LOWER     10044                 52                 0   \n",
              "10694            UNIT2     10013                 10                 2   \n",
              "17090            RESID     10025                146                 0   \n",
              "18746                3     10469                  1                 0   \n",
              "18747                3     10469                  1                 0   \n",
              "...                ...       ...                ...               ...   \n",
              "59640            42770     11366                  4                 0   \n",
              "73901                4     11413                  4                 0   \n",
              "82934               10     10301                  2                 1   \n",
              "83790               94     10310                  2                 0   \n",
              "83909                3     10310                  2                 1   \n",
              "\n",
              "       TOTAL UNITS  LAND SQUARE FEET  GROSS SQUARE FEET  YEAR BUILT  \\\n",
              "10520           52           23774.0            38428.0        2014   \n",
              "10694           12            6185.0            15655.0        1880   \n",
              "17090          146           15100.0           155975.0        1929   \n",
              "18746            1               0.0                0.0        2008   \n",
              "18747            1               0.0                0.0        2008   \n",
              "...            ...               ...                ...         ...   \n",
              "59640            4            2000.0             2400.0        1928   \n",
              "73901            4            1515.0             1984.0        1931   \n",
              "82934            3            2313.0             2016.0        1953   \n",
              "83790            2            6867.0             4108.0        1910   \n",
              "83909            1            1900.0             2140.0        1940   \n",
              "\n",
              "       TAX CLASS AT TIME OF SALE BUILDING CLASS AT TIME OF SALE  SALE PRICE  \\\n",
              "10520                          2                             RR  23296741.0   \n",
              "10694                          2                             RR   8146000.0   \n",
              "17090                          2                             RR  41000000.0   \n",
              "18746                          1                             R3    310000.0   \n",
              "18747                          1                             R3    342500.0   \n",
              "...                          ...                            ...         ...   \n",
              "59640                          2                             C3    965000.0   \n",
              "73901                          2                             C3    308000.0   \n",
              "82934                          1                             S2    580000.0   \n",
              "83790                          1                             B2    480000.0   \n",
              "83909                          4                             M1    386820.0   \n",
              "\n",
              "                 SALE DATE  \n",
              "10520  2016-10-21 00:00:00  \n",
              "10694  2017-08-15 00:00:00  \n",
              "17090  2017-06-22 00:00:00  \n",
              "18746  2017-02-28 00:00:00  \n",
              "18747  2017-07-31 00:00:00  \n",
              "...                    ...  \n",
              "59640  2017-07-31 00:00:00  \n",
              "73901  2017-05-10 00:00:00  \n",
              "82934  2016-10-26 00:00:00  \n",
              "83790  2016-12-12 00:00:00  \n",
              "83909  2017-01-16 00:00:00  \n",
              "\n",
              "[4822 rows x 20 columns]"
            ],
            "text/html": [
              "\n",
              "  <div id=\"df-72d70a37-71df-4fbe-b1b2-2615f91b4e7c\">\n",
              "    <div class=\"colab-df-container\">\n",
              "      <div>\n",
              "<style scoped>\n",
              "    .dataframe tbody tr th:only-of-type {\n",
              "        vertical-align: middle;\n",
              "    }\n",
              "\n",
              "    .dataframe tbody tr th {\n",
              "        vertical-align: top;\n",
              "    }\n",
              "\n",
              "    .dataframe thead th {\n",
              "        text-align: right;\n",
              "    }\n",
              "</style>\n",
              "<table border=\"1\" class=\"dataframe\">\n",
              "  <thead>\n",
              "    <tr style=\"text-align: right;\">\n",
              "      <th></th>\n",
              "      <th>BOROUGH</th>\n",
              "      <th>NEIGHBORHOOD</th>\n",
              "      <th>BUILDING CLASS CATEGORY</th>\n",
              "      <th>TAX CLASS AT PRESENT</th>\n",
              "      <th>BLOCK</th>\n",
              "      <th>LOT</th>\n",
              "      <th>BUILDING CLASS AT PRESENT</th>\n",
              "      <th>ADDRESS</th>\n",
              "      <th>APARTMENT NUMBER</th>\n",
              "      <th>ZIP CODE</th>\n",
              "      <th>RESIDENTIAL UNITS</th>\n",
              "      <th>COMMERCIAL UNITS</th>\n",
              "      <th>TOTAL UNITS</th>\n",
              "      <th>LAND SQUARE FEET</th>\n",
              "      <th>GROSS SQUARE FEET</th>\n",
              "      <th>YEAR BUILT</th>\n",
              "      <th>TAX CLASS AT TIME OF SALE</th>\n",
              "      <th>BUILDING CLASS AT TIME OF SALE</th>\n",
              "      <th>SALE PRICE</th>\n",
              "      <th>SALE DATE</th>\n",
              "    </tr>\n",
              "  </thead>\n",
              "  <tbody>\n",
              "    <tr>\n",
              "      <th>10520</th>\n",
              "      <td>1</td>\n",
              "      <td>ROOSEVELT ISLAND</td>\n",
              "      <td>11A CONDO-RENTALS</td>\n",
              "      <td>2</td>\n",
              "      <td>1373</td>\n",
              "      <td>2001</td>\n",
              "      <td>RR</td>\n",
              "      <td>480 MAIN STREET</td>\n",
              "      <td>LOWER</td>\n",
              "      <td>10044</td>\n",
              "      <td>52</td>\n",
              "      <td>0</td>\n",
              "      <td>52</td>\n",
              "      <td>23774.0</td>\n",
              "      <td>38428.0</td>\n",
              "      <td>2014</td>\n",
              "      <td>2</td>\n",
              "      <td>RR</td>\n",
              "      <td>23296741.0</td>\n",
              "      <td>2016-10-21 00:00:00</td>\n",
              "    </tr>\n",
              "    <tr>\n",
              "      <th>10694</th>\n",
              "      <td>1</td>\n",
              "      <td>SOHO</td>\n",
              "      <td>11A CONDO-RENTALS</td>\n",
              "      <td>2</td>\n",
              "      <td>230</td>\n",
              "      <td>1402</td>\n",
              "      <td>RR</td>\n",
              "      <td>25 MERCER STREET</td>\n",
              "      <td>UNIT2</td>\n",
              "      <td>10013</td>\n",
              "      <td>10</td>\n",
              "      <td>2</td>\n",
              "      <td>12</td>\n",
              "      <td>6185.0</td>\n",
              "      <td>15655.0</td>\n",
              "      <td>1880</td>\n",
              "      <td>2</td>\n",
              "      <td>RR</td>\n",
              "      <td>8146000.0</td>\n",
              "      <td>2017-08-15 00:00:00</td>\n",
              "    </tr>\n",
              "    <tr>\n",
              "      <th>17090</th>\n",
              "      <td>1</td>\n",
              "      <td>UPPER WEST SIDE (79-96)</td>\n",
              "      <td>11A CONDO-RENTALS</td>\n",
              "      <td>2</td>\n",
              "      <td>1209</td>\n",
              "      <td>1101</td>\n",
              "      <td>RR</td>\n",
              "      <td>360 CENTRAL PARK WEST</td>\n",
              "      <td>RESID</td>\n",
              "      <td>10025</td>\n",
              "      <td>146</td>\n",
              "      <td>0</td>\n",
              "      <td>146</td>\n",
              "      <td>15100.0</td>\n",
              "      <td>155975.0</td>\n",
              "      <td>1929</td>\n",
              "      <td>2</td>\n",
              "      <td>RR</td>\n",
              "      <td>41000000.0</td>\n",
              "      <td>2017-06-22 00:00:00</td>\n",
              "    </tr>\n",
              "    <tr>\n",
              "      <th>18746</th>\n",
              "      <td>2</td>\n",
              "      <td>BAYCHESTER</td>\n",
              "      <td>04 TAX CLASS 1 CONDOS</td>\n",
              "      <td>1A</td>\n",
              "      <td>4795</td>\n",
              "      <td>1009</td>\n",
              "      <td>R3</td>\n",
              "      <td>2877 ELY AVENUE</td>\n",
              "      <td>3</td>\n",
              "      <td>10469</td>\n",
              "      <td>1</td>\n",
              "      <td>0</td>\n",
              "      <td>1</td>\n",
              "      <td>0.0</td>\n",
              "      <td>0.0</td>\n",
              "      <td>2008</td>\n",
              "      <td>1</td>\n",
              "      <td>R3</td>\n",
              "      <td>310000.0</td>\n",
              "      <td>2017-02-28 00:00:00</td>\n",
              "    </tr>\n",
              "    <tr>\n",
              "      <th>18747</th>\n",
              "      <td>2</td>\n",
              "      <td>BAYCHESTER</td>\n",
              "      <td>04 TAX CLASS 1 CONDOS</td>\n",
              "      <td>1A</td>\n",
              "      <td>4795</td>\n",
              "      <td>1027</td>\n",
              "      <td>R3</td>\n",
              "      <td>2853 ELY AVENUE</td>\n",
              "      <td>3</td>\n",
              "      <td>10469</td>\n",
              "      <td>1</td>\n",
              "      <td>0</td>\n",
              "      <td>1</td>\n",
              "      <td>0.0</td>\n",
              "      <td>0.0</td>\n",
              "      <td>2008</td>\n",
              "      <td>1</td>\n",
              "      <td>R3</td>\n",
              "      <td>342500.0</td>\n",
              "      <td>2017-07-31 00:00:00</td>\n",
              "    </tr>\n",
              "    <tr>\n",
              "      <th>...</th>\n",
              "      <td>...</td>\n",
              "      <td>...</td>\n",
              "      <td>...</td>\n",
              "      <td>...</td>\n",
              "      <td>...</td>\n",
              "      <td>...</td>\n",
              "      <td>...</td>\n",
              "      <td>...</td>\n",
              "      <td>...</td>\n",
              "      <td>...</td>\n",
              "      <td>...</td>\n",
              "      <td>...</td>\n",
              "      <td>...</td>\n",
              "      <td>...</td>\n",
              "      <td>...</td>\n",
              "      <td>...</td>\n",
              "      <td>...</td>\n",
              "      <td>...</td>\n",
              "      <td>...</td>\n",
              "      <td>...</td>\n",
              "    </tr>\n",
              "    <tr>\n",
              "      <th>59640</th>\n",
              "      <td>4</td>\n",
              "      <td>FLUSHING-SOUTH</td>\n",
              "      <td>07 RENTALS - WALKUP APARTMENTS</td>\n",
              "      <td>2A</td>\n",
              "      <td>6971</td>\n",
              "      <td>56</td>\n",
              "      <td>C3</td>\n",
              "      <td>164-18 77TH   ROAD</td>\n",
              "      <td>42770</td>\n",
              "      <td>11366</td>\n",
              "      <td>4</td>\n",
              "      <td>0</td>\n",
              "      <td>4</td>\n",
              "      <td>2000.0</td>\n",
              "      <td>2400.0</td>\n",
              "      <td>1928</td>\n",
              "      <td>2</td>\n",
              "      <td>C3</td>\n",
              "      <td>965000.0</td>\n",
              "      <td>2017-07-31 00:00:00</td>\n",
              "    </tr>\n",
              "    <tr>\n",
              "      <th>73901</th>\n",
              "      <td>4</td>\n",
              "      <td>SPRINGFIELD GARDENS</td>\n",
              "      <td>07 RENTALS - WALKUP APARTMENTS</td>\n",
              "      <td>2A</td>\n",
              "      <td>12701</td>\n",
              "      <td>47</td>\n",
              "      <td>C3</td>\n",
              "      <td>122-20 NELLIS STREET</td>\n",
              "      <td>4</td>\n",
              "      <td>11413</td>\n",
              "      <td>4</td>\n",
              "      <td>0</td>\n",
              "      <td>4</td>\n",
              "      <td>1515.0</td>\n",
              "      <td>1984.0</td>\n",
              "      <td>1931</td>\n",
              "      <td>2</td>\n",
              "      <td>C3</td>\n",
              "      <td>308000.0</td>\n",
              "      <td>2017-05-10 00:00:00</td>\n",
              "    </tr>\n",
              "    <tr>\n",
              "      <th>82934</th>\n",
              "      <td>5</td>\n",
              "      <td>STAPLETON</td>\n",
              "      <td>02 TWO FAMILY DWELLINGS</td>\n",
              "      <td>1</td>\n",
              "      <td>505</td>\n",
              "      <td>100</td>\n",
              "      <td>S2</td>\n",
              "      <td>388 BAY STREET</td>\n",
              "      <td>10</td>\n",
              "      <td>10301</td>\n",
              "      <td>2</td>\n",
              "      <td>1</td>\n",
              "      <td>3</td>\n",
              "      <td>2313.0</td>\n",
              "      <td>2016.0</td>\n",
              "      <td>1953</td>\n",
              "      <td>1</td>\n",
              "      <td>S2</td>\n",
              "      <td>580000.0</td>\n",
              "      <td>2016-10-26 00:00:00</td>\n",
              "    </tr>\n",
              "    <tr>\n",
              "      <th>83790</th>\n",
              "      <td>5</td>\n",
              "      <td>WEST NEW BRIGHTON</td>\n",
              "      <td>02 TWO FAMILY DWELLINGS</td>\n",
              "      <td>1</td>\n",
              "      <td>178</td>\n",
              "      <td>46</td>\n",
              "      <td>B2</td>\n",
              "      <td>296 NORTH BURGHER AVENUE</td>\n",
              "      <td>94</td>\n",
              "      <td>10310</td>\n",
              "      <td>2</td>\n",
              "      <td>0</td>\n",
              "      <td>2</td>\n",
              "      <td>6867.0</td>\n",
              "      <td>4108.0</td>\n",
              "      <td>1910</td>\n",
              "      <td>1</td>\n",
              "      <td>B2</td>\n",
              "      <td>480000.0</td>\n",
              "      <td>2016-12-12 00:00:00</td>\n",
              "    </tr>\n",
              "    <tr>\n",
              "      <th>83909</th>\n",
              "      <td>5</td>\n",
              "      <td>WEST NEW BRIGHTON</td>\n",
              "      <td>37 RELIGIOUS FACILITIES</td>\n",
              "      <td>4</td>\n",
              "      <td>177</td>\n",
              "      <td>103</td>\n",
              "      <td>M1</td>\n",
              "      <td>1009 CASTLETON AVENUE</td>\n",
              "      <td>3</td>\n",
              "      <td>10310</td>\n",
              "      <td>2</td>\n",
              "      <td>1</td>\n",
              "      <td>1</td>\n",
              "      <td>1900.0</td>\n",
              "      <td>2140.0</td>\n",
              "      <td>1940</td>\n",
              "      <td>4</td>\n",
              "      <td>M1</td>\n",
              "      <td>386820.0</td>\n",
              "      <td>2017-01-16 00:00:00</td>\n",
              "    </tr>\n",
              "  </tbody>\n",
              "</table>\n",
              "<p>4822 rows × 20 columns</p>\n",
              "</div>\n",
              "      <button class=\"colab-df-convert\" onclick=\"convertToInteractive('df-72d70a37-71df-4fbe-b1b2-2615f91b4e7c')\"\n",
              "              title=\"Convert this dataframe to an interactive table.\"\n",
              "              style=\"display:none;\">\n",
              "        \n",
              "  <svg xmlns=\"http://www.w3.org/2000/svg\" height=\"24px\"viewBox=\"0 0 24 24\"\n",
              "       width=\"24px\">\n",
              "    <path d=\"M0 0h24v24H0V0z\" fill=\"none\"/>\n",
              "    <path d=\"M18.56 5.44l.94 2.06.94-2.06 2.06-.94-2.06-.94-.94-2.06-.94 2.06-2.06.94zm-11 1L8.5 8.5l.94-2.06 2.06-.94-2.06-.94L8.5 2.5l-.94 2.06-2.06.94zm10 10l.94 2.06.94-2.06 2.06-.94-2.06-.94-.94-2.06-.94 2.06-2.06.94z\"/><path d=\"M17.41 7.96l-1.37-1.37c-.4-.4-.92-.59-1.43-.59-.52 0-1.04.2-1.43.59L10.3 9.45l-7.72 7.72c-.78.78-.78 2.05 0 2.83L4 21.41c.39.39.9.59 1.41.59.51 0 1.02-.2 1.41-.59l7.78-7.78 2.81-2.81c.8-.78.8-2.07 0-2.86zM5.41 20L4 18.59l7.72-7.72 1.47 1.35L5.41 20z\"/>\n",
              "  </svg>\n",
              "      </button>\n",
              "      \n",
              "  <style>\n",
              "    .colab-df-container {\n",
              "      display:flex;\n",
              "      flex-wrap:wrap;\n",
              "      gap: 12px;\n",
              "    }\n",
              "\n",
              "    .colab-df-convert {\n",
              "      background-color: #E8F0FE;\n",
              "      border: none;\n",
              "      border-radius: 50%;\n",
              "      cursor: pointer;\n",
              "      display: none;\n",
              "      fill: #1967D2;\n",
              "      height: 32px;\n",
              "      padding: 0 0 0 0;\n",
              "      width: 32px;\n",
              "    }\n",
              "\n",
              "    .colab-df-convert:hover {\n",
              "      background-color: #E2EBFA;\n",
              "      box-shadow: 0px 1px 2px rgba(60, 64, 67, 0.3), 0px 1px 3px 1px rgba(60, 64, 67, 0.15);\n",
              "      fill: #174EA6;\n",
              "    }\n",
              "\n",
              "    [theme=dark] .colab-df-convert {\n",
              "      background-color: #3B4455;\n",
              "      fill: #D2E3FC;\n",
              "    }\n",
              "\n",
              "    [theme=dark] .colab-df-convert:hover {\n",
              "      background-color: #434B5C;\n",
              "      box-shadow: 0px 1px 3px 1px rgba(0, 0, 0, 0.15);\n",
              "      filter: drop-shadow(0px 1px 2px rgba(0, 0, 0, 0.3));\n",
              "      fill: #FFFFFF;\n",
              "    }\n",
              "  </style>\n",
              "\n",
              "      <script>\n",
              "        const buttonEl =\n",
              "          document.querySelector('#df-72d70a37-71df-4fbe-b1b2-2615f91b4e7c button.colab-df-convert');\n",
              "        buttonEl.style.display =\n",
              "          google.colab.kernel.accessAllowed ? 'block' : 'none';\n",
              "\n",
              "        async function convertToInteractive(key) {\n",
              "          const element = document.querySelector('#df-72d70a37-71df-4fbe-b1b2-2615f91b4e7c');\n",
              "          const dataTable =\n",
              "            await google.colab.kernel.invokeFunction('convertToInteractive',\n",
              "                                                     [key], {});\n",
              "          if (!dataTable) return;\n",
              "\n",
              "          const docLinkHtml = 'Like what you see? Visit the ' +\n",
              "            '<a target=\"_blank\" href=https://colab.research.google.com/notebooks/data_table.ipynb>data table notebook</a>'\n",
              "            + ' to learn more about interactive tables.';\n",
              "          element.innerHTML = '';\n",
              "          dataTable['output_type'] = 'display_data';\n",
              "          await google.colab.output.renderOutput(dataTable, element);\n",
              "          const docLink = document.createElement('div');\n",
              "          docLink.innerHTML = docLinkHtml;\n",
              "          element.appendChild(docLink);\n",
              "        }\n",
              "      </script>\n",
              "    </div>\n",
              "  </div>\n",
              "  "
            ]
          },
          "metadata": {},
          "execution_count": 592
        }
      ]
    },
    {
      "cell_type": "markdown",
      "source": [
        "Penghapusan data dengan nilai 0 pada kolom Sale Price dilakukan karena ada beberapa rumah yang telah dialihkan ke keluarga atau tidak dijual. Oleh karena itu, dalam kolom Sale Price, nilai 0 digunakan untuk menandai bahwa rumah tersebut tidak termasuk dalam data penjualan. Penghapusan data dengan harga 0 memastikan bahwa hanya data penjualan yang valid dan relevan yang tetap ada dalam dataset, sehingga meminimalkan pengaruh data yang tidak relevan pada analisis yang dilakukan."
      ],
      "metadata": {
        "id": "B9qdljNIaIFa"
      }
    },
    {
      "cell_type": "code",
      "source": [
        "# Ambil rata - rata tahun rumah\n",
        "mean_year_build = df['YEAR BUILT'].mean()\n",
        "\n",
        "# Bulatkan rata - rata\n",
        "mean_round = round(mean_year_build, 0)\n",
        "\n",
        "# Ganti Year Built dengan = 0 dengan mean_round\n",
        "df['YEAR BUILT'] = df['YEAR BUILT'].replace(0, mean_round)"
      ],
      "metadata": {
        "id": "VXIvhDGFcw3H"
      },
      "execution_count": 593,
      "outputs": []
    },
    {
      "cell_type": "markdown",
      "source": [
        "### Handel data NaN"
      ],
      "metadata": {
        "id": "iEGRxSIfQg6b"
      }
    },
    {
      "cell_type": "code",
      "source": [
        "# handle data Nan\n",
        "df.dropna(axis=0, inplace=True)"
      ],
      "metadata": {
        "id": "ZiX--0ByQYSg"
      },
      "execution_count": 594,
      "outputs": []
    },
    {
      "cell_type": "code",
      "source": [
        "# Cek kembali data Nan\n",
        "df.isna().any().sum()"
      ],
      "metadata": {
        "colab": {
          "base_uri": "https://localhost:8080/"
        },
        "id": "95o3wY_hQsxv",
        "outputId": "e6091a11-5f91-43fb-8cb4-fc68c7ac83fe"
      },
      "execution_count": 595,
      "outputs": [
        {
          "output_type": "execute_result",
          "data": {
            "text/plain": [
              "0"
            ]
          },
          "metadata": {},
          "execution_count": 595
        }
      ]
    },
    {
      "cell_type": "markdown",
      "source": [
        "Penanganan Nan dilakukan dengan menghapus baris yang berisi Nan, hal tersebut karena jumlah data Nan tidak terlalu banyak. Setelah di lakukan penanganan data Nan, data sudah tidak terdapat lagi data nan"
      ],
      "metadata": {
        "id": "BqClMC5LQ31K"
      }
    },
    {
      "cell_type": "markdown",
      "source": [
        "### Handel data duplikat"
      ],
      "metadata": {
        "id": "eitcrJnoUAKP"
      }
    },
    {
      "cell_type": "code",
      "source": [
        "# Cek data duplikat\n",
        "df.duplicated().sum()"
      ],
      "metadata": {
        "colab": {
          "base_uri": "https://localhost:8080/"
        },
        "id": "rmrZLBozUHYm",
        "outputId": "7a7ed1e4-c7a2-44a7-8732-53657f0f979d"
      },
      "execution_count": 596,
      "outputs": [
        {
          "output_type": "execute_result",
          "data": {
            "text/plain": [
              "13"
            ]
          },
          "metadata": {},
          "execution_count": 596
        }
      ]
    },
    {
      "cell_type": "markdown",
      "source": [
        "Pada data tersebut tidak terdapat data duplicat, sehingga tidak perlu di lakukan penanganan"
      ],
      "metadata": {
        "id": "XgIBfTXyURpF"
      }
    },
    {
      "cell_type": "markdown",
      "source": [
        "# Memisahkan data angka dan object"
      ],
      "metadata": {
        "id": "fBXRVtGGX5RB"
      }
    },
    {
      "cell_type": "markdown",
      "source": [
        "### Data Angka"
      ],
      "metadata": {
        "id": "rWKcjHqVhQAa"
      }
    },
    {
      "cell_type": "code",
      "source": [
        "# Mengambil data dengan type float dan int\n",
        "int_cols = df.select_dtypes(include = ['int64', 'float64']).columns"
      ],
      "metadata": {
        "id": "l3tSXTMcX94Q"
      },
      "execution_count": 597,
      "outputs": []
    },
    {
      "cell_type": "code",
      "source": [
        "# Mengambil data dengan columns yang berisi angka\n",
        "df_int = df[int_cols].copy()"
      ],
      "metadata": {
        "id": "ceDbw7FJX_uU"
      },
      "execution_count": 598,
      "outputs": []
    },
    {
      "cell_type": "code",
      "source": [
        "# Tampilkan data\n",
        "df_int.head()"
      ],
      "metadata": {
        "colab": {
          "base_uri": "https://localhost:8080/",
          "height": 268
        },
        "id": "EXvLQyTRYAx-",
        "outputId": "d239616b-5eb8-4d45-e49c-13f36937fe10"
      },
      "execution_count": 599,
      "outputs": [
        {
          "output_type": "execute_result",
          "data": {
            "text/plain": [
              "       BOROUGH  BLOCK   LOT  ZIP CODE  RESIDENTIAL UNITS  COMMERCIAL UNITS  \\\n",
              "10520        1   1373  2001     10044                 52                 0   \n",
              "10694        1    230  1402     10013                 10                 2   \n",
              "17090        1   1209  1101     10025                146                 0   \n",
              "18746        2   4795  1009     10469                  1                 0   \n",
              "18747        2   4795  1027     10469                  1                 0   \n",
              "\n",
              "       TOTAL UNITS  LAND SQUARE FEET  GROSS SQUARE FEET  YEAR BUILT  \\\n",
              "10520           52           23774.0            38428.0        2014   \n",
              "10694           12            6185.0            15655.0        1880   \n",
              "17090          146           15100.0           155975.0        1929   \n",
              "18746            1               0.0                0.0        2008   \n",
              "18747            1               0.0                0.0        2008   \n",
              "\n",
              "       TAX CLASS AT TIME OF SALE  SALE PRICE  \n",
              "10520                          2  23296741.0  \n",
              "10694                          2   8146000.0  \n",
              "17090                          2  41000000.0  \n",
              "18746                          1    310000.0  \n",
              "18747                          1    342500.0  "
            ],
            "text/html": [
              "\n",
              "  <div id=\"df-4c20a881-3d6a-477d-9d58-0cdb68107bee\">\n",
              "    <div class=\"colab-df-container\">\n",
              "      <div>\n",
              "<style scoped>\n",
              "    .dataframe tbody tr th:only-of-type {\n",
              "        vertical-align: middle;\n",
              "    }\n",
              "\n",
              "    .dataframe tbody tr th {\n",
              "        vertical-align: top;\n",
              "    }\n",
              "\n",
              "    .dataframe thead th {\n",
              "        text-align: right;\n",
              "    }\n",
              "</style>\n",
              "<table border=\"1\" class=\"dataframe\">\n",
              "  <thead>\n",
              "    <tr style=\"text-align: right;\">\n",
              "      <th></th>\n",
              "      <th>BOROUGH</th>\n",
              "      <th>BLOCK</th>\n",
              "      <th>LOT</th>\n",
              "      <th>ZIP CODE</th>\n",
              "      <th>RESIDENTIAL UNITS</th>\n",
              "      <th>COMMERCIAL UNITS</th>\n",
              "      <th>TOTAL UNITS</th>\n",
              "      <th>LAND SQUARE FEET</th>\n",
              "      <th>GROSS SQUARE FEET</th>\n",
              "      <th>YEAR BUILT</th>\n",
              "      <th>TAX CLASS AT TIME OF SALE</th>\n",
              "      <th>SALE PRICE</th>\n",
              "    </tr>\n",
              "  </thead>\n",
              "  <tbody>\n",
              "    <tr>\n",
              "      <th>10520</th>\n",
              "      <td>1</td>\n",
              "      <td>1373</td>\n",
              "      <td>2001</td>\n",
              "      <td>10044</td>\n",
              "      <td>52</td>\n",
              "      <td>0</td>\n",
              "      <td>52</td>\n",
              "      <td>23774.0</td>\n",
              "      <td>38428.0</td>\n",
              "      <td>2014</td>\n",
              "      <td>2</td>\n",
              "      <td>23296741.0</td>\n",
              "    </tr>\n",
              "    <tr>\n",
              "      <th>10694</th>\n",
              "      <td>1</td>\n",
              "      <td>230</td>\n",
              "      <td>1402</td>\n",
              "      <td>10013</td>\n",
              "      <td>10</td>\n",
              "      <td>2</td>\n",
              "      <td>12</td>\n",
              "      <td>6185.0</td>\n",
              "      <td>15655.0</td>\n",
              "      <td>1880</td>\n",
              "      <td>2</td>\n",
              "      <td>8146000.0</td>\n",
              "    </tr>\n",
              "    <tr>\n",
              "      <th>17090</th>\n",
              "      <td>1</td>\n",
              "      <td>1209</td>\n",
              "      <td>1101</td>\n",
              "      <td>10025</td>\n",
              "      <td>146</td>\n",
              "      <td>0</td>\n",
              "      <td>146</td>\n",
              "      <td>15100.0</td>\n",
              "      <td>155975.0</td>\n",
              "      <td>1929</td>\n",
              "      <td>2</td>\n",
              "      <td>41000000.0</td>\n",
              "    </tr>\n",
              "    <tr>\n",
              "      <th>18746</th>\n",
              "      <td>2</td>\n",
              "      <td>4795</td>\n",
              "      <td>1009</td>\n",
              "      <td>10469</td>\n",
              "      <td>1</td>\n",
              "      <td>0</td>\n",
              "      <td>1</td>\n",
              "      <td>0.0</td>\n",
              "      <td>0.0</td>\n",
              "      <td>2008</td>\n",
              "      <td>1</td>\n",
              "      <td>310000.0</td>\n",
              "    </tr>\n",
              "    <tr>\n",
              "      <th>18747</th>\n",
              "      <td>2</td>\n",
              "      <td>4795</td>\n",
              "      <td>1027</td>\n",
              "      <td>10469</td>\n",
              "      <td>1</td>\n",
              "      <td>0</td>\n",
              "      <td>1</td>\n",
              "      <td>0.0</td>\n",
              "      <td>0.0</td>\n",
              "      <td>2008</td>\n",
              "      <td>1</td>\n",
              "      <td>342500.0</td>\n",
              "    </tr>\n",
              "  </tbody>\n",
              "</table>\n",
              "</div>\n",
              "      <button class=\"colab-df-convert\" onclick=\"convertToInteractive('df-4c20a881-3d6a-477d-9d58-0cdb68107bee')\"\n",
              "              title=\"Convert this dataframe to an interactive table.\"\n",
              "              style=\"display:none;\">\n",
              "        \n",
              "  <svg xmlns=\"http://www.w3.org/2000/svg\" height=\"24px\"viewBox=\"0 0 24 24\"\n",
              "       width=\"24px\">\n",
              "    <path d=\"M0 0h24v24H0V0z\" fill=\"none\"/>\n",
              "    <path d=\"M18.56 5.44l.94 2.06.94-2.06 2.06-.94-2.06-.94-.94-2.06-.94 2.06-2.06.94zm-11 1L8.5 8.5l.94-2.06 2.06-.94-2.06-.94L8.5 2.5l-.94 2.06-2.06.94zm10 10l.94 2.06.94-2.06 2.06-.94-2.06-.94-.94-2.06-.94 2.06-2.06.94z\"/><path d=\"M17.41 7.96l-1.37-1.37c-.4-.4-.92-.59-1.43-.59-.52 0-1.04.2-1.43.59L10.3 9.45l-7.72 7.72c-.78.78-.78 2.05 0 2.83L4 21.41c.39.39.9.59 1.41.59.51 0 1.02-.2 1.41-.59l7.78-7.78 2.81-2.81c.8-.78.8-2.07 0-2.86zM5.41 20L4 18.59l7.72-7.72 1.47 1.35L5.41 20z\"/>\n",
              "  </svg>\n",
              "      </button>\n",
              "      \n",
              "  <style>\n",
              "    .colab-df-container {\n",
              "      display:flex;\n",
              "      flex-wrap:wrap;\n",
              "      gap: 12px;\n",
              "    }\n",
              "\n",
              "    .colab-df-convert {\n",
              "      background-color: #E8F0FE;\n",
              "      border: none;\n",
              "      border-radius: 50%;\n",
              "      cursor: pointer;\n",
              "      display: none;\n",
              "      fill: #1967D2;\n",
              "      height: 32px;\n",
              "      padding: 0 0 0 0;\n",
              "      width: 32px;\n",
              "    }\n",
              "\n",
              "    .colab-df-convert:hover {\n",
              "      background-color: #E2EBFA;\n",
              "      box-shadow: 0px 1px 2px rgba(60, 64, 67, 0.3), 0px 1px 3px 1px rgba(60, 64, 67, 0.15);\n",
              "      fill: #174EA6;\n",
              "    }\n",
              "\n",
              "    [theme=dark] .colab-df-convert {\n",
              "      background-color: #3B4455;\n",
              "      fill: #D2E3FC;\n",
              "    }\n",
              "\n",
              "    [theme=dark] .colab-df-convert:hover {\n",
              "      background-color: #434B5C;\n",
              "      box-shadow: 0px 1px 3px 1px rgba(0, 0, 0, 0.15);\n",
              "      filter: drop-shadow(0px 1px 2px rgba(0, 0, 0, 0.3));\n",
              "      fill: #FFFFFF;\n",
              "    }\n",
              "  </style>\n",
              "\n",
              "      <script>\n",
              "        const buttonEl =\n",
              "          document.querySelector('#df-4c20a881-3d6a-477d-9d58-0cdb68107bee button.colab-df-convert');\n",
              "        buttonEl.style.display =\n",
              "          google.colab.kernel.accessAllowed ? 'block' : 'none';\n",
              "\n",
              "        async function convertToInteractive(key) {\n",
              "          const element = document.querySelector('#df-4c20a881-3d6a-477d-9d58-0cdb68107bee');\n",
              "          const dataTable =\n",
              "            await google.colab.kernel.invokeFunction('convertToInteractive',\n",
              "                                                     [key], {});\n",
              "          if (!dataTable) return;\n",
              "\n",
              "          const docLinkHtml = 'Like what you see? Visit the ' +\n",
              "            '<a target=\"_blank\" href=https://colab.research.google.com/notebooks/data_table.ipynb>data table notebook</a>'\n",
              "            + ' to learn more about interactive tables.';\n",
              "          element.innerHTML = '';\n",
              "          dataTable['output_type'] = 'display_data';\n",
              "          await google.colab.output.renderOutput(dataTable, element);\n",
              "          const docLink = document.createElement('div');\n",
              "          docLink.innerHTML = docLinkHtml;\n",
              "          element.appendChild(docLink);\n",
              "        }\n",
              "      </script>\n",
              "    </div>\n",
              "  </div>\n",
              "  "
            ]
          },
          "metadata": {},
          "execution_count": 599
        }
      ]
    },
    {
      "cell_type": "markdown",
      "source": [
        "### Mengambil data object"
      ],
      "metadata": {
        "id": "CqDMKPDHhalu"
      }
    },
    {
      "cell_type": "code",
      "source": [
        "# Mengambil data dengan type object\n",
        "obj_cols = df.select_dtypes(include = ['object']).columns"
      ],
      "metadata": {
        "id": "xB5xJZc_hfCb"
      },
      "execution_count": 600,
      "outputs": []
    },
    {
      "cell_type": "code",
      "source": [
        "# Mengambil data dengan columns yang berisi angka\n",
        "df_obj = df[obj_cols].copy()"
      ],
      "metadata": {
        "id": "2-b_0Ijfhma8"
      },
      "execution_count": 601,
      "outputs": []
    },
    {
      "cell_type": "code",
      "source": [
        "# Tampilkan data\n",
        "df_obj.head()"
      ],
      "metadata": {
        "colab": {
          "base_uri": "https://localhost:8080/",
          "height": 0
        },
        "id": "3hS-r1D7hsn3",
        "outputId": "052aa856-c566-4926-f02a-c47bf9598b89"
      },
      "execution_count": 602,
      "outputs": [
        {
          "output_type": "execute_result",
          "data": {
            "text/plain": [
              "                  NEIGHBORHOOD                       BUILDING CLASS CATEGORY  \\\n",
              "10520         ROOSEVELT ISLAND  11A CONDO-RENTALS                              \n",
              "10694                     SOHO  11A CONDO-RENTALS                              \n",
              "17090  UPPER WEST SIDE (79-96)  11A CONDO-RENTALS                              \n",
              "18746               BAYCHESTER   04 TAX CLASS 1 CONDOS                         \n",
              "18747               BAYCHESTER   04 TAX CLASS 1 CONDOS                         \n",
              "\n",
              "      TAX CLASS AT PRESENT BUILDING CLASS AT PRESENT                ADDRESS  \\\n",
              "10520                    2                        RR        480 MAIN STREET   \n",
              "10694                    2                        RR       25 MERCER STREET   \n",
              "17090                    2                        RR  360 CENTRAL PARK WEST   \n",
              "18746                   1A                        R3        2877 ELY AVENUE   \n",
              "18747                   1A                        R3        2853 ELY AVENUE   \n",
              "\n",
              "      APARTMENT NUMBER BUILDING CLASS AT TIME OF SALE            SALE DATE  \n",
              "10520            LOWER                             RR  2016-10-21 00:00:00  \n",
              "10694            UNIT2                             RR  2017-08-15 00:00:00  \n",
              "17090            RESID                             RR  2017-06-22 00:00:00  \n",
              "18746                3                             R3  2017-02-28 00:00:00  \n",
              "18747                3                             R3  2017-07-31 00:00:00  "
            ],
            "text/html": [
              "\n",
              "  <div id=\"df-b86252ba-2d1c-4d5a-87cb-1b4b8272552f\">\n",
              "    <div class=\"colab-df-container\">\n",
              "      <div>\n",
              "<style scoped>\n",
              "    .dataframe tbody tr th:only-of-type {\n",
              "        vertical-align: middle;\n",
              "    }\n",
              "\n",
              "    .dataframe tbody tr th {\n",
              "        vertical-align: top;\n",
              "    }\n",
              "\n",
              "    .dataframe thead th {\n",
              "        text-align: right;\n",
              "    }\n",
              "</style>\n",
              "<table border=\"1\" class=\"dataframe\">\n",
              "  <thead>\n",
              "    <tr style=\"text-align: right;\">\n",
              "      <th></th>\n",
              "      <th>NEIGHBORHOOD</th>\n",
              "      <th>BUILDING CLASS CATEGORY</th>\n",
              "      <th>TAX CLASS AT PRESENT</th>\n",
              "      <th>BUILDING CLASS AT PRESENT</th>\n",
              "      <th>ADDRESS</th>\n",
              "      <th>APARTMENT NUMBER</th>\n",
              "      <th>BUILDING CLASS AT TIME OF SALE</th>\n",
              "      <th>SALE DATE</th>\n",
              "    </tr>\n",
              "  </thead>\n",
              "  <tbody>\n",
              "    <tr>\n",
              "      <th>10520</th>\n",
              "      <td>ROOSEVELT ISLAND</td>\n",
              "      <td>11A CONDO-RENTALS</td>\n",
              "      <td>2</td>\n",
              "      <td>RR</td>\n",
              "      <td>480 MAIN STREET</td>\n",
              "      <td>LOWER</td>\n",
              "      <td>RR</td>\n",
              "      <td>2016-10-21 00:00:00</td>\n",
              "    </tr>\n",
              "    <tr>\n",
              "      <th>10694</th>\n",
              "      <td>SOHO</td>\n",
              "      <td>11A CONDO-RENTALS</td>\n",
              "      <td>2</td>\n",
              "      <td>RR</td>\n",
              "      <td>25 MERCER STREET</td>\n",
              "      <td>UNIT2</td>\n",
              "      <td>RR</td>\n",
              "      <td>2017-08-15 00:00:00</td>\n",
              "    </tr>\n",
              "    <tr>\n",
              "      <th>17090</th>\n",
              "      <td>UPPER WEST SIDE (79-96)</td>\n",
              "      <td>11A CONDO-RENTALS</td>\n",
              "      <td>2</td>\n",
              "      <td>RR</td>\n",
              "      <td>360 CENTRAL PARK WEST</td>\n",
              "      <td>RESID</td>\n",
              "      <td>RR</td>\n",
              "      <td>2017-06-22 00:00:00</td>\n",
              "    </tr>\n",
              "    <tr>\n",
              "      <th>18746</th>\n",
              "      <td>BAYCHESTER</td>\n",
              "      <td>04 TAX CLASS 1 CONDOS</td>\n",
              "      <td>1A</td>\n",
              "      <td>R3</td>\n",
              "      <td>2877 ELY AVENUE</td>\n",
              "      <td>3</td>\n",
              "      <td>R3</td>\n",
              "      <td>2017-02-28 00:00:00</td>\n",
              "    </tr>\n",
              "    <tr>\n",
              "      <th>18747</th>\n",
              "      <td>BAYCHESTER</td>\n",
              "      <td>04 TAX CLASS 1 CONDOS</td>\n",
              "      <td>1A</td>\n",
              "      <td>R3</td>\n",
              "      <td>2853 ELY AVENUE</td>\n",
              "      <td>3</td>\n",
              "      <td>R3</td>\n",
              "      <td>2017-07-31 00:00:00</td>\n",
              "    </tr>\n",
              "  </tbody>\n",
              "</table>\n",
              "</div>\n",
              "      <button class=\"colab-df-convert\" onclick=\"convertToInteractive('df-b86252ba-2d1c-4d5a-87cb-1b4b8272552f')\"\n",
              "              title=\"Convert this dataframe to an interactive table.\"\n",
              "              style=\"display:none;\">\n",
              "        \n",
              "  <svg xmlns=\"http://www.w3.org/2000/svg\" height=\"24px\"viewBox=\"0 0 24 24\"\n",
              "       width=\"24px\">\n",
              "    <path d=\"M0 0h24v24H0V0z\" fill=\"none\"/>\n",
              "    <path d=\"M18.56 5.44l.94 2.06.94-2.06 2.06-.94-2.06-.94-.94-2.06-.94 2.06-2.06.94zm-11 1L8.5 8.5l.94-2.06 2.06-.94-2.06-.94L8.5 2.5l-.94 2.06-2.06.94zm10 10l.94 2.06.94-2.06 2.06-.94-2.06-.94-.94-2.06-.94 2.06-2.06.94z\"/><path d=\"M17.41 7.96l-1.37-1.37c-.4-.4-.92-.59-1.43-.59-.52 0-1.04.2-1.43.59L10.3 9.45l-7.72 7.72c-.78.78-.78 2.05 0 2.83L4 21.41c.39.39.9.59 1.41.59.51 0 1.02-.2 1.41-.59l7.78-7.78 2.81-2.81c.8-.78.8-2.07 0-2.86zM5.41 20L4 18.59l7.72-7.72 1.47 1.35L5.41 20z\"/>\n",
              "  </svg>\n",
              "      </button>\n",
              "      \n",
              "  <style>\n",
              "    .colab-df-container {\n",
              "      display:flex;\n",
              "      flex-wrap:wrap;\n",
              "      gap: 12px;\n",
              "    }\n",
              "\n",
              "    .colab-df-convert {\n",
              "      background-color: #E8F0FE;\n",
              "      border: none;\n",
              "      border-radius: 50%;\n",
              "      cursor: pointer;\n",
              "      display: none;\n",
              "      fill: #1967D2;\n",
              "      height: 32px;\n",
              "      padding: 0 0 0 0;\n",
              "      width: 32px;\n",
              "    }\n",
              "\n",
              "    .colab-df-convert:hover {\n",
              "      background-color: #E2EBFA;\n",
              "      box-shadow: 0px 1px 2px rgba(60, 64, 67, 0.3), 0px 1px 3px 1px rgba(60, 64, 67, 0.15);\n",
              "      fill: #174EA6;\n",
              "    }\n",
              "\n",
              "    [theme=dark] .colab-df-convert {\n",
              "      background-color: #3B4455;\n",
              "      fill: #D2E3FC;\n",
              "    }\n",
              "\n",
              "    [theme=dark] .colab-df-convert:hover {\n",
              "      background-color: #434B5C;\n",
              "      box-shadow: 0px 1px 3px 1px rgba(0, 0, 0, 0.15);\n",
              "      filter: drop-shadow(0px 1px 2px rgba(0, 0, 0, 0.3));\n",
              "      fill: #FFFFFF;\n",
              "    }\n",
              "  </style>\n",
              "\n",
              "      <script>\n",
              "        const buttonEl =\n",
              "          document.querySelector('#df-b86252ba-2d1c-4d5a-87cb-1b4b8272552f button.colab-df-convert');\n",
              "        buttonEl.style.display =\n",
              "          google.colab.kernel.accessAllowed ? 'block' : 'none';\n",
              "\n",
              "        async function convertToInteractive(key) {\n",
              "          const element = document.querySelector('#df-b86252ba-2d1c-4d5a-87cb-1b4b8272552f');\n",
              "          const dataTable =\n",
              "            await google.colab.kernel.invokeFunction('convertToInteractive',\n",
              "                                                     [key], {});\n",
              "          if (!dataTable) return;\n",
              "\n",
              "          const docLinkHtml = 'Like what you see? Visit the ' +\n",
              "            '<a target=\"_blank\" href=https://colab.research.google.com/notebooks/data_table.ipynb>data table notebook</a>'\n",
              "            + ' to learn more about interactive tables.';\n",
              "          element.innerHTML = '';\n",
              "          dataTable['output_type'] = 'display_data';\n",
              "          await google.colab.output.renderOutput(dataTable, element);\n",
              "          const docLink = document.createElement('div');\n",
              "          docLink.innerHTML = docLinkHtml;\n",
              "          element.appendChild(docLink);\n",
              "        }\n",
              "      </script>\n",
              "    </div>\n",
              "  </div>\n",
              "  "
            ]
          },
          "metadata": {},
          "execution_count": 602
        }
      ]
    },
    {
      "cell_type": "markdown",
      "source": [
        "# Measure of Central Tendency: Mean"
      ],
      "metadata": {
        "id": "1pBxei1dV00H"
      }
    },
    {
      "cell_type": "code",
      "source": [
        "#  Lakukan looping nama columns dengan type data int\n",
        "for i in int_cols:\n",
        "  # Hitung niali mean dari masing - masing columns\n",
        "  nilai_mean = df_int[i].mean()\n",
        "  # Ttampilkan hitungan mean dari masing - masing columns\n",
        "  print(\"Mean dari\", i ,\"=\", nilai_mean)"
      ],
      "metadata": {
        "colab": {
          "base_uri": "https://localhost:8080/"
        },
        "id": "KQYXl57sV438",
        "outputId": "a22ee4c2-30bc-452f-fc81-8e9e1e42cd57"
      },
      "execution_count": 603,
      "outputs": [
        {
          "output_type": "stream",
          "name": "stdout",
          "text": [
            "Mean dari BOROUGH = 2.905226047283285\n",
            "Mean dari BLOCK = 2953.831812525923\n",
            "Mean dari LOT = 1224.2982165076733\n",
            "Mean dari ZIP CODE = 11147.364164247201\n",
            "Mean dari RESIDENTIAL UNITS = 1.656159270012443\n",
            "Mean dari COMMERCIAL UNITS = 0.028204064703442555\n",
            "Mean dari TOTAL UNITS = 1.7405640812940688\n",
            "Mean dari LAND SQUARE FEET = 268.97055163832437\n",
            "Mean dari GROSS SQUARE FEET = 729.0420987142264\n",
            "Mean dari YEAR BUILT = 1940.0553712152634\n",
            "Mean dari TAX CLASS AT TIME OF SALE = 2.0012442969722106\n",
            "Mean dari SALE PRICE = 1202145.9773952716\n"
          ]
        }
      ]
    },
    {
      "cell_type": "markdown",
      "source": [
        "# Measure of Central Tendency: Median"
      ],
      "metadata": {
        "id": "RYjksm5ocU27"
      }
    },
    {
      "cell_type": "code",
      "source": [
        "#  Lakukan looping nama columns dengan type data int\n",
        "for i in int_cols:\n",
        "  # Hitung niali mean dari masing - masing columns\n",
        "  nilai_median = df_int[i].median()\n",
        "  # Ttampilkan hitungan mean dari masing - masing columns\n",
        "  print(\"Median dari\", i ,\"=\", nilai_median)"
      ],
      "metadata": {
        "colab": {
          "base_uri": "https://localhost:8080/"
        },
        "id": "y7to1oY8cZp9",
        "outputId": "7fe4b2cd-1f2e-48b4-8db3-20e4ec01af89"
      },
      "execution_count": 604,
      "outputs": [
        {
          "output_type": "stream",
          "name": "stdout",
          "text": [
            "Median dari BOROUGH = 3.0\n",
            "Median dari BLOCK = 2237.5\n",
            "Median dari LOT = 1104.0\n",
            "Median dari ZIP CODE = 11217.0\n",
            "Median dari RESIDENTIAL UNITS = 1.0\n",
            "Median dari COMMERCIAL UNITS = 0.0\n",
            "Median dari TOTAL UNITS = 1.0\n",
            "Median dari LAND SQUARE FEET = 0.0\n",
            "Median dari GROSS SQUARE FEET = 0.0\n",
            "Median dari YEAR BUILT = 2003.0\n",
            "Median dari TAX CLASS AT TIME OF SALE = 2.0\n",
            "Median dari SALE PRICE = 795000.0\n"
          ]
        }
      ]
    },
    {
      "cell_type": "markdown",
      "source": [
        "# Measure of Central Tendency: Modus"
      ],
      "metadata": {
        "id": "1JdsX3HGctpi"
      }
    },
    {
      "cell_type": "code",
      "source": [
        "#  Lakukan looping nama columns dengan type data int\n",
        "for i in int_cols:\n",
        "  # Hitung niali modus dari masing - masing columns\n",
        "  nilai_modus = df_int[i].mode()\n",
        "  # Ttampilkan hitungan modus dari masing - masing columns\n",
        "  print(\"Modus dari\", i ,\"=\", nilai_modus)"
      ],
      "metadata": {
        "colab": {
          "base_uri": "https://localhost:8080/"
        },
        "id": "sZFjbXyjdLAT",
        "outputId": "cc270917-ee5a-4704-8206-7834346f7ecc"
      },
      "execution_count": 605,
      "outputs": [
        {
          "output_type": "stream",
          "name": "stdout",
          "text": [
            "Modus dari BOROUGH = 0    3\n",
            "Name: BOROUGH, dtype: int64\n",
            "Modus dari BLOCK = 0    2135\n",
            "Name: BLOCK, dtype: int64\n",
            "Modus dari LOT = 0    1001\n",
            "Name: LOT, dtype: int64\n",
            "Modus dari ZIP CODE = 0    11201\n",
            "Name: ZIP CODE, dtype: int64\n",
            "Modus dari RESIDENTIAL UNITS = 0    1\n",
            "Name: RESIDENTIAL UNITS, dtype: int64\n",
            "Modus dari COMMERCIAL UNITS = 0    0\n",
            "Name: COMMERCIAL UNITS, dtype: int64\n",
            "Modus dari TOTAL UNITS = 0    1\n",
            "Name: TOTAL UNITS, dtype: int64\n",
            "Modus dari LAND SQUARE FEET = 0    0.0\n",
            "Name: LAND SQUARE FEET, dtype: float64\n",
            "Modus dari GROSS SQUARE FEET = 0    0.0\n",
            "Name: GROSS SQUARE FEET, dtype: float64\n",
            "Modus dari YEAR BUILT = 0    1789\n",
            "Name: YEAR BUILT, dtype: int64\n",
            "Modus dari TAX CLASS AT TIME OF SALE = 0    2\n",
            "Name: TAX CLASS AT TIME OF SALE, dtype: int64\n",
            "Modus dari SALE PRICE = 0    10.0\n",
            "Name: SALE PRICE, dtype: float64\n"
          ]
        }
      ]
    },
    {
      "cell_type": "code",
      "source": [
        "#  Lakukan looping nama columns dengan type data int\n",
        "for i in obj_cols:\n",
        "  # Hitung niali modus dari masing - masing columns\n",
        "  nilai_modus = df_obj[i].mode()\n",
        "  # Ttampilkan hitungan modus dari masing - masing columns\n",
        "  print(\"Modus dari\", i ,\"=\", nilai_modus)"
      ],
      "metadata": {
        "colab": {
          "base_uri": "https://localhost:8080/"
        },
        "id": "vhI2W2aThAxf",
        "outputId": "a18e86b7-dbe4-4103-e28c-a95248514835"
      },
      "execution_count": 606,
      "outputs": [
        {
          "output_type": "stream",
          "name": "stdout",
          "text": [
            "Modus dari NEIGHBORHOOD = 0    WILLIAMSBURG-SOUTH\n",
            "Name: NEIGHBORHOOD, dtype: object\n",
            "Modus dari BUILDING CLASS CATEGORY = 0    13 CONDOS - ELEVATOR APARTMENTS            \n",
            "Name: BUILDING CLASS CATEGORY, dtype: object\n",
            "Modus dari TAX CLASS AT PRESENT = 0    2\n",
            "Name: TAX CLASS AT PRESENT, dtype: object\n",
            "Modus dari BUILDING CLASS AT PRESENT = 0    R4\n",
            "Name: BUILDING CLASS AT PRESENT, dtype: object\n",
            "Modus dari ADDRESS = 0    429 KENT AVENUE\n",
            "Name: ADDRESS, dtype: object\n",
            "Modus dari APARTMENT NUMBER = 0    4\n",
            "Name: APARTMENT NUMBER, dtype: object\n",
            "Modus dari BUILDING CLASS AT TIME OF SALE = 0    R4\n",
            "Name: BUILDING CLASS AT TIME OF SALE, dtype: object\n",
            "Modus dari SALE DATE = 0    2017-04-13 00:00:00\n",
            "Name: SALE DATE, dtype: object\n"
          ]
        }
      ]
    },
    {
      "cell_type": "markdown",
      "source": [
        "# Measure of Spread: Range"
      ],
      "metadata": {
        "id": "IAsR-GqOiJ8W"
      }
    },
    {
      "cell_type": "code",
      "source": [
        "#  Lakukan looping nama columns dengan type data int\n",
        "for i in int_cols:\n",
        "  # Hitung niali range dari masing - masing columns\n",
        "  nilai_range = np.ptp(df_int[i])\n",
        "  # Ttampilkan hitungan range dari masing - masing columns\n",
        "  print(\"Range dari\", i ,\"=\", nilai_range)"
      ],
      "metadata": {
        "colab": {
          "base_uri": "https://localhost:8080/"
        },
        "id": "HMF9FjvnidNC",
        "outputId": "74cc64ae-7cba-434c-ed34-86c136f76f28"
      },
      "execution_count": 607,
      "outputs": [
        {
          "output_type": "stream",
          "name": "stdout",
          "text": [
            "Range dari BOROUGH = 4\n",
            "Range dari BLOCK = 12700\n",
            "Range dari LOT = 5360\n",
            "Range dari ZIP CODE = 1400\n",
            "Range dari RESIDENTIAL UNITS = 146\n",
            "Range dari COMMERCIAL UNITS = 10\n",
            "Range dari TOTAL UNITS = 145\n",
            "Range dari LAND SQUARE FEET = 32470.0\n",
            "Range dari GROSS SQUARE FEET = 155975.0\n",
            "Range dari YEAR BUILT = 227\n",
            "Range dari TAX CLASS AT TIME OF SALE = 3\n",
            "Range dari SALE PRICE = 154249999.0\n"
          ]
        }
      ]
    },
    {
      "cell_type": "markdown",
      "source": [
        "# Measure of Spread: Variance"
      ],
      "metadata": {
        "id": "Kpn4Sh_3jE4n"
      }
    },
    {
      "cell_type": "code",
      "source": [
        "df_describe = describe(df_int, ddof=1, bias=False) #Ambil describe\n",
        "df_describe.variance"
      ],
      "metadata": {
        "colab": {
          "base_uri": "https://localhost:8080/"
        },
        "id": "PrTvfUFVjJ2v",
        "outputId": "2a95c862-5e1a-41dd-bd70-b744105588c0"
      },
      "execution_count": 608,
      "outputs": [
        {
          "output_type": "execute_result",
          "data": {
            "text/plain": [
              "array([9.24472731e-02, 6.12900288e+06, 4.26657535e+05, 5.11663693e+04,\n",
              "       3.16328380e+01, 8.01004454e-02, 3.23502273e+01, 2.10338217e+06,\n",
              "       3.17874631e+07, 8.22746364e+03, 3.57185757e-01, 1.06220120e+13])"
            ]
          },
          "metadata": {},
          "execution_count": 608
        }
      ]
    },
    {
      "cell_type": "code",
      "source": [
        "for i in df_describe.variance:\n",
        "  print(i) #Ambil describe dari masing - masing kolom"
      ],
      "metadata": {
        "colab": {
          "base_uri": "https://localhost:8080/"
        },
        "id": "QHCqtyNAlpuf",
        "outputId": "0eea3c33-df18-4a21-d971-5cb85fd4ae5c"
      },
      "execution_count": 609,
      "outputs": [
        {
          "output_type": "stream",
          "name": "stdout",
          "text": [
            "0.09244727309862293\n",
            "6129002.881684289\n",
            "426657.53477798414\n",
            "51166.369327438675\n",
            "31.632838014868415\n",
            "0.08010044538484377\n",
            "32.350227269383716\n",
            "2103382.167562401\n",
            "31787463.05962538\n",
            "8227.463641544395\n",
            "0.3571857569421628\n",
            "10622012015468.625\n"
          ]
        }
      ]
    },
    {
      "cell_type": "markdown",
      "source": [
        "# Measure of Spread: Standard Deviation"
      ],
      "metadata": {
        "id": "GnFF7n3KjPbl"
      }
    },
    {
      "cell_type": "code",
      "source": [
        "df_describes = df_int.describe() #Tampilkan describe dari data"
      ],
      "metadata": {
        "id": "kSm8nWVdjQrA"
      },
      "execution_count": 610,
      "outputs": []
    },
    {
      "cell_type": "code",
      "source": [
        "for i in df_describes:\n",
        "  std = df_describes[i]['std'] #Ambil std dari masing - masing kolom\n",
        "  print('Standard Deviation dari', i, '=', std) #Tampilkan describe dari masing - masing kolom"
      ],
      "metadata": {
        "colab": {
          "base_uri": "https://localhost:8080/"
        },
        "id": "yvQA5D3IoJjR",
        "outputId": "12a901ee-8f68-423c-e763-1044162233fd"
      },
      "execution_count": 611,
      "outputs": [
        {
          "output_type": "stream",
          "name": "stdout",
          "text": [
            "Standard Deviation dari BOROUGH = 0.30405143166678716\n",
            "Standard Deviation dari BLOCK = 2475.682306291397\n",
            "Standard Deviation dari LOT = 653.1902745586343\n",
            "Standard Deviation dari ZIP CODE = 226.199843782967\n",
            "Standard Deviation dari RESIDENTIAL UNITS = 5.624307780951218\n",
            "Standard Deviation dari COMMERCIAL UNITS = 0.283020220805588\n",
            "Standard Deviation dari TOTAL UNITS = 5.687726019191125\n",
            "Standard Deviation dari LAND SQUARE FEET = 1450.3041638092338\n",
            "Standard Deviation dari GROSS SQUARE FEET = 5638.037163732196\n",
            "Standard Deviation dari YEAR BUILT = 90.7053672146494\n",
            "Standard Deviation dari TAX CLASS AT TIME OF SALE = 0.5976501961366388\n",
            "Standard Deviation dari SALE PRICE = 3259142.834468693\n"
          ]
        }
      ]
    },
    {
      "cell_type": "markdown",
      "source": [
        "# Probability Distribution"
      ],
      "metadata": {
        "id": "aJ2LCJcEjQ9j"
      }
    },
    {
      "cell_type": "code",
      "source": [
        "for i in int_cols: #Lakukan perulangan pada kolom bertipe angka\n",
        "  fig = plt.subplots(figsize=(16, 2)) #Set figure\n",
        "  data_normal = norm.rvs(df_int[i]) #Rubah ke data norm\n",
        "  ax= sns.distplot(data_normal, bins=150, kde=True, color='skyblue', hist_kws={\"linewidth\": 1,'alpha':1})\n",
        "  ax.set(xlabel=i, ylabel='Frequency') #set ax"
      ],
      "metadata": {
        "colab": {
          "base_uri": "https://localhost:8080/",
          "height": 1000
        },
        "id": "PIjWv2yPrv7i",
        "outputId": "fb1bddf0-ee7d-45ba-c50e-fbc6f2e2202a"
      },
      "execution_count": 612,
      "outputs": [
        {
          "output_type": "display_data",
          "data": {
            "text/plain": [
              "<Figure size 1600x200 with 1 Axes>"
            ],
            "image/png": "[encoded data removed]"
          },
          "metadata": {}
        },
        {
          "output_type": "display_data",
          "data": {
            "text/plain": [
              "<Figure size 1600x200 with 1 Axes>"
            ],
            "image/png": "[encoded data removed]"
          },
          "metadata": {}
        },
        {
          "output_type": "display_data",
          "data": {
            "text/plain": [
              "<Figure size 1600x200 with 1 Axes>"
            ],
            "image/png": "[encoded data removed]"
          },
          "metadata": {}
        },
        {
          "output_type": "display_data",
          "data": {
            "text/plain": [
              "<Figure size 1600x200 with 1 Axes>"
            ],
            "image/png": "[encoded data removed]"
          },
          "metadata": {}
        },
        {
          "output_type": "display_data",
          "data": {
            "text/plain": [
              "<Figure size 1600x200 with 1 Axes>"
            ],
            "image/png": "[encoded data removed]"
          },
          "metadata": {}
        },
        {
          "output_type": "display_data",
          "data": {
            "text/plain": [
              "<Figure size 1600x200 with 1 Axes>"
            ],
            "image/png": "[encoded data removed]"
          },
          "metadata": {}
        },
        {
          "output_type": "display_data",
          "data": {
            "text/plain": [
              "<Figure size 1600x200 with 1 Axes>"
            ],
            "image/png": "[encoded data removed]"
          },
          "metadata": {}
        },
        {
          "output_type": "display_data",
          "data": {
            "text/plain": [
              "<Figure size 1600x200 with 1 Axes>"
            ],
            "image/png": "[encoded data removed]"
          },
          "metadata": {}
        },
        {
          "output_type": "display_data",
          "data": {
            "text/plain": [
              "<Figure size 1600x200 with 1 Axes>"
            ],
            "image/png": "[encoded data removed]"
          },
          "metadata": {}
        },
        {
          "output_type": "display_data",
          "data": {
            "text/plain": [
              "<Figure size 1600x200 with 1 Axes>"
            ],
            "image/png": "[encoded data removed]"
          },
          "metadata": {}
        },
        {
          "output_type": "display_data",
          "data": {
            "text/plain": [
              "<Figure size 1600x200 with 1 Axes>"
            ],
            "image/png": "[encoded data removed]"
          },
          "metadata": {}
        },
        {
          "output_type": "display_data",
          "data": {
            "text/plain": [
              "<Figure size 1600x200 with 1 Axes>"
            ],
            "image/png": "[encoded data removed]"
          },
          "metadata": {}
        }
      ]
    },
    {
      "cell_type": "markdown",
      "source": [
        "# Confidence Intervals"
      ],
      "metadata": {
        "id": "xQ4InSg-Kcqv"
      }
    },
    {
      "cell_type": "code",
      "source": [
        "# Mengambil data Year Built dan Sale Price\n",
        "df_interval = df[['YEAR BUILT', 'SALE PRICE']].copy()"
      ],
      "metadata": {
        "id": "8dwvel5XRE1I"
      },
      "execution_count": 613,
      "outputs": []
    },
    {
      "cell_type": "markdown",
      "source": [
        "\n",
        "Alasan di balik pengambilan data Year Built (tahun pembangunan) dan Sale Price (harga jual) adalah karena informasi tersebut sering menjadi perhatian utama bagi orang-orang yang melakukan estimasi terkait properti tersebut. Tahun pembangunan memberikan gambaran tentang seberapa tua atau baru suatu properti, sementara harga jual memberikan petunjuk mengenai nilai ekonomi yang terkait dengan properti tersebut. Oleh karena itu, data Year Built dan Sale Price dianggap penting dalam analisis dan estimasi properti, serta menjadi faktor utama dalam memperkirakan nilai dan karakteristik properti yang terkait."
      ],
      "metadata": {
        "id": "o1YVkEZbSwny"
      }
    },
    {
      "cell_type": "code",
      "source": [
        "# Tampilkan data\n",
        "df_interval.head()"
      ],
      "metadata": {
        "colab": {
          "base_uri": "https://localhost:8080/",
          "height": 206
        },
        "id": "RacvokH_RIT7",
        "outputId": "b9e17a8d-a6f3-4efd-e8d2-f206929f46ff"
      },
      "execution_count": 614,
      "outputs": [
        {
          "output_type": "execute_result",
          "data": {
            "text/plain": [
              "       YEAR BUILT  SALE PRICE\n",
              "10520        2014  23296741.0\n",
              "10694        1880   8146000.0\n",
              "17090        1929  41000000.0\n",
              "18746        2008    310000.0\n",
              "18747        2008    342500.0"
            ],
            "text/html": [
              "\n",
              "  <div id=\"df-73ebafde-70e0-4264-8a34-d82443a774e5\">\n",
              "    <div class=\"colab-df-container\">\n",
              "      <div>\n",
              "<style scoped>\n",
              "    .dataframe tbody tr th:only-of-type {\n",
              "        vertical-align: middle;\n",
              "    }\n",
              "\n",
              "    .dataframe tbody tr th {\n",
              "        vertical-align: top;\n",
              "    }\n",
              "\n",
              "    .dataframe thead th {\n",
              "        text-align: right;\n",
              "    }\n",
              "</style>\n",
              "<table border=\"1\" class=\"dataframe\">\n",
              "  <thead>\n",
              "    <tr style=\"text-align: right;\">\n",
              "      <th></th>\n",
              "      <th>YEAR BUILT</th>\n",
              "      <th>SALE PRICE</th>\n",
              "    </tr>\n",
              "  </thead>\n",
              "  <tbody>\n",
              "    <tr>\n",
              "      <th>10520</th>\n",
              "      <td>2014</td>\n",
              "      <td>23296741.0</td>\n",
              "    </tr>\n",
              "    <tr>\n",
              "      <th>10694</th>\n",
              "      <td>1880</td>\n",
              "      <td>8146000.0</td>\n",
              "    </tr>\n",
              "    <tr>\n",
              "      <th>17090</th>\n",
              "      <td>1929</td>\n",
              "      <td>41000000.0</td>\n",
              "    </tr>\n",
              "    <tr>\n",
              "      <th>18746</th>\n",
              "      <td>2008</td>\n",
              "      <td>310000.0</td>\n",
              "    </tr>\n",
              "    <tr>\n",
              "      <th>18747</th>\n",
              "      <td>2008</td>\n",
              "      <td>342500.0</td>\n",
              "    </tr>\n",
              "  </tbody>\n",
              "</table>\n",
              "</div>\n",
              "      <button class=\"colab-df-convert\" onclick=\"convertToInteractive('df-73ebafde-70e0-4264-8a34-d82443a774e5')\"\n",
              "              title=\"Convert this dataframe to an interactive table.\"\n",
              "              style=\"display:none;\">\n",
              "        \n",
              "  <svg xmlns=\"http://www.w3.org/2000/svg\" height=\"24px\"viewBox=\"0 0 24 24\"\n",
              "       width=\"24px\">\n",
              "    <path d=\"M0 0h24v24H0V0z\" fill=\"none\"/>\n",
              "    <path d=\"M18.56 5.44l.94 2.06.94-2.06 2.06-.94-2.06-.94-.94-2.06-.94 2.06-2.06.94zm-11 1L8.5 8.5l.94-2.06 2.06-.94-2.06-.94L8.5 2.5l-.94 2.06-2.06.94zm10 10l.94 2.06.94-2.06 2.06-.94-2.06-.94-.94-2.06-.94 2.06-2.06.94z\"/><path d=\"M17.41 7.96l-1.37-1.37c-.4-.4-.92-.59-1.43-.59-.52 0-1.04.2-1.43.59L10.3 9.45l-7.72 7.72c-.78.78-.78 2.05 0 2.83L4 21.41c.39.39.9.59 1.41.59.51 0 1.02-.2 1.41-.59l7.78-7.78 2.81-2.81c.8-.78.8-2.07 0-2.86zM5.41 20L4 18.59l7.72-7.72 1.47 1.35L5.41 20z\"/>\n",
              "  </svg>\n",
              "      </button>\n",
              "      \n",
              "  <style>\n",
              "    .colab-df-container {\n",
              "      display:flex;\n",
              "      flex-wrap:wrap;\n",
              "      gap: 12px;\n",
              "    }\n",
              "\n",
              "    .colab-df-convert {\n",
              "      background-color: #E8F0FE;\n",
              "      border: none;\n",
              "      border-radius: 50%;\n",
              "      cursor: pointer;\n",
              "      display: none;\n",
              "      fill: #1967D2;\n",
              "      height: 32px;\n",
              "      padding: 0 0 0 0;\n",
              "      width: 32px;\n",
              "    }\n",
              "\n",
              "    .colab-df-convert:hover {\n",
              "      background-color: #E2EBFA;\n",
              "      box-shadow: 0px 1px 2px rgba(60, 64, 67, 0.3), 0px 1px 3px 1px rgba(60, 64, 67, 0.15);\n",
              "      fill: #174EA6;\n",
              "    }\n",
              "\n",
              "    [theme=dark] .colab-df-convert {\n",
              "      background-color: #3B4455;\n",
              "      fill: #D2E3FC;\n",
              "    }\n",
              "\n",
              "    [theme=dark] .colab-df-convert:hover {\n",
              "      background-color: #434B5C;\n",
              "      box-shadow: 0px 1px 3px 1px rgba(0, 0, 0, 0.15);\n",
              "      filter: drop-shadow(0px 1px 2px rgba(0, 0, 0, 0.3));\n",
              "      fill: #FFFFFF;\n",
              "    }\n",
              "  </style>\n",
              "\n",
              "      <script>\n",
              "        const buttonEl =\n",
              "          document.querySelector('#df-73ebafde-70e0-4264-8a34-d82443a774e5 button.colab-df-convert');\n",
              "        buttonEl.style.display =\n",
              "          google.colab.kernel.accessAllowed ? 'block' : 'none';\n",
              "\n",
              "        async function convertToInteractive(key) {\n",
              "          const element = document.querySelector('#df-73ebafde-70e0-4264-8a34-d82443a774e5');\n",
              "          const dataTable =\n",
              "            await google.colab.kernel.invokeFunction('convertToInteractive',\n",
              "                                                     [key], {});\n",
              "          if (!dataTable) return;\n",
              "\n",
              "          const docLinkHtml = 'Like what you see? Visit the ' +\n",
              "            '<a target=\"_blank\" href=https://colab.research.google.com/notebooks/data_table.ipynb>data table notebook</a>'\n",
              "            + ' to learn more about interactive tables.';\n",
              "          element.innerHTML = '';\n",
              "          dataTable['output_type'] = 'display_data';\n",
              "          await google.colab.output.renderOutput(dataTable, element);\n",
              "          const docLink = document.createElement('div');\n",
              "          docLink.innerHTML = docLinkHtml;\n",
              "          element.appendChild(docLink);\n",
              "        }\n",
              "      </script>\n",
              "    </div>\n",
              "  </div>\n",
              "  "
            ]
          },
          "metadata": {},
          "execution_count": 614
        }
      ]
    },
    {
      "cell_type": "code",
      "source": [
        "for i in df_interval.columns: #Lakukan perulangan nama kolom\n",
        "  df_mean = np.mean(df_interval[i]) # Ambil nilai mean\n",
        "  df_median = np.mean(df_interval[i]) # Ambil nilai median\n",
        "  df_std = np.std(df_interval[i]) # Ambil nilai standar deviasi\n",
        "  confidence = 0.95 # Menentukan confedence\n",
        "  error = stats.sem(df_interval[i])  # Menentukan batas error\n",
        "\n",
        "  n = df_interval[i].shape[0] # Menghitung panjang data\n",
        "  confidence_interval = t.interval(confidence, df=n-1, loc=df_median, scale=error) # Melakukan penghitungan cofidence interval\n",
        "  print(\"Confidence Interval \", i , \": \", confidence_interval) # Menampilkan hasilnya"
      ],
      "metadata": {
        "colab": {
          "base_uri": "https://localhost:8080/"
        },
        "id": "RC3KrHp8MpWz",
        "outputId": "765a80a1-fda7-4b5b-95cd-69bc5e174c36"
      },
      "execution_count": 615,
      "outputs": [
        {
          "output_type": "stream",
          "name": "stdout",
          "text": [
            "Confidence Interval  YEAR BUILT :  (1937.49456614232, 1942.6161762882068)\n",
            "Confidence Interval  SALE PRICE :  (1110133.4564139727, 1294158.4983765706)\n"
          ]
        }
      ]
    },
    {
      "cell_type": "markdown",
      "source": [
        "Setelah melakukan pengecekan terhadap interval tahun pembangunan (year build) dan harga jual (sale price), ditemukan beberapa asumsi yang dilakukan oleh orang-orang. Menurut asumsi tersebut, rumah-rumah yang dijual diperkirakan dibangun antara rentang tahun 1937 hingga 1942. Selain itu, mereka juga mengasumsikan bahwa harga rumah yang ditawarkan berada dalam kisaran sekitar 1.110.133 hingga 1.294.158. Perlu dicatat bahwa ini hanyalah asumsi yang didasarkan pada informasi interval yang diperoleh dan belum tentu mencerminkan nilai sebenarnya dari tahun pembangunan dan harga jual rumah tersebut."
      ],
      "metadata": {
        "id": "p6aXosS8Ous4"
      }
    },
    {
      "cell_type": "markdown",
      "source": [
        "# Hypothesis Testing"
      ],
      "metadata": {
        "id": "eBJD7tL4wmCN"
      }
    },
    {
      "cell_type": "markdown",
      "source": [
        "Menarik hipoteas, Apakah harga rumah pada tahun 2000 ke atas lebih mahal dari pada tahun 2000 kebawah ?"
      ],
      "metadata": {
        "id": "oln8BiQDklc9"
      }
    },
    {
      "cell_type": "code",
      "source": [
        "df_year_lebih_2000 = df[df['YEAR BUILT'] > 2000].copy() #data dengan year built lebih dari tahun 2000\n",
        "df_year_kurang_2000 = df[df['YEAR BUILT'] < 2000].copy() #data dengan year built kurang dari tahun 2000"
      ],
      "metadata": {
        "id": "Oq7KKClcgrPh"
      },
      "execution_count": 617,
      "outputs": []
    },
    {
      "cell_type": "code",
      "source": [
        "len_2001 = df_year_lebih_2000.shape[0] # Jumlah data dengan rumah year built > 2000\n",
        "mean_2001 = df_year_lebih_2000['SALE PRICE'].mean() # mean dengan data rumah year built > 2000\n",
        "std_2001 = df_year_lebih_2000['SALE PRICE'].std() # std dengan data rumah year built > 2000\n",
        "\n",
        "(len_2001, mean_2001, std_2001)"
      ],
      "metadata": {
        "colab": {
          "base_uri": "https://localhost:8080/"
        },
        "id": "9OH1wlkeZfBO",
        "outputId": "864dab55-1e61-4637-bf87-d606a808f7f0"
      },
      "execution_count": 618,
      "outputs": [
        {
          "output_type": "execute_result",
          "data": {
            "text/plain": [
              "(2500, 1226850.384, 3842925.8511700123)"
            ]
          },
          "metadata": {},
          "execution_count": 618
        }
      ]
    },
    {
      "cell_type": "code",
      "source": [
        "len_1999 = df_year_kurang_2000.shape[0] # Jumlah data dengan rumah year built < 2000\n",
        "mean_1999 = df_year_kurang_2000['SALE PRICE'].mean() # mean dengan data rumah year built < 2000\n",
        "std_1999 = df_year_kurang_2000['SALE PRICE'].std() # std dengan data rumah year built < 2000\n",
        "\n",
        "(len_1999, mean_1999, std_1999)"
      ],
      "metadata": {
        "colab": {
          "base_uri": "https://localhost:8080/"
        },
        "id": "5ctz1NlOfmPq",
        "outputId": "e04f9ba3-6606-4a62-e36d-3715129a64da"
      },
      "execution_count": 619,
      "outputs": [
        {
          "output_type": "execute_result",
          "data": {
            "text/plain": [
              "(2313, 1177664.178555988, 2486667.0009958525)"
            ]
          },
          "metadata": {},
          "execution_count": 619
        }
      ]
    },
    {
      "cell_type": "code",
      "source": [
        "sm.stats.ztest(df_year_lebih_2000['SALE PRICE'], df_year_kurang_2000['SALE PRICE'] ,alternative='larger')"
      ],
      "metadata": {
        "colab": {
          "base_uri": "https://localhost:8080/"
        },
        "id": "uv_fnTodhjER",
        "outputId": "2808861a-c5ae-44e8-938a-dde6d023fa35"
      },
      "execution_count": 622,
      "outputs": [
        {
          "output_type": "execute_result",
          "data": {
            "text/plain": [
              "(0.5225990909558623, 0.30062663663416767)"
            ]
          },
          "metadata": {},
          "execution_count": 622
        }
      ]
    },
    {
      "cell_type": "markdown",
      "source": [
        "Hasil analisis dengan menggunakan uji z-test menunjukkan bahwa nilai p-value (0.522) yang diperoleh relatif kecil, sedangkan nilai signifikansi yang ditetapkan (0.300) untuk pengujian tersebut. Berdasarkan temuan ini, kita tidak memiliki cukup bukti statistik yang kuat untuk menolak hipotesis nol yang menyatakan bahwa persentase orang-orang yang percaya bahwa harga rumah pada tahun pembuatan kurang dari 2000 lebih mahal daripada rumah yang dibangun setelah tahun 2000 mengalami penurunan yang signifikan dari tahun ke tahun. Dengan demikian, dari analisis yang dilakukan, tidak ada dasar yang kuat untuk mengatakan bahwa terdapat perubahan yang signifikan dalam keyakinan tersebut selama periode waktu yang diteliti."
      ],
      "metadata": {
        "id": "O5yF1Kuki32m"
      }
    }
  ]
}